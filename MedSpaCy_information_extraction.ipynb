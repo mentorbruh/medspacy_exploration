{
  "nbformat": 4,
  "nbformat_minor": 0,
  "metadata": {
    "kernelspec": {
      "display_name": "Python 3",
      "language": "python",
      "name": "python3"
    },
    "language_info": {
      "codemirror_mode": {
        "name": "ipython",
        "version": 3
      },
      "file_extension": ".py",
      "mimetype": "text/x-python",
      "name": "python",
      "nbconvert_exporter": "python",
      "pygments_lexer": "ipython3",
      "version": "3.8.3"
    },
    "colab": {
      "name": "MedSpaCy_information_extraction.ipynb",
      "provenance": [],
      "include_colab_link": true
    }
  },
  "cells": [
    {
      "cell_type": "markdown",
      "metadata": {
        "id": "view-in-github",
        "colab_type": "text"
      },
      "source": [
        "<a href=\"https://colab.research.google.com/github/mentorbruh/medspacy_exploration/blob/main/MedSpaCy_information_extraction.ipynb\" target=\"_parent\"><img src=\"https://colab.research.google.com/assets/colab-badge.svg\" alt=\"Open In Colab\"/></a>"
      ]
    },
    {
      "cell_type": "code",
      "metadata": {
        "colab": {
          "base_uri": "https://localhost:8080/"
        },
        "id": "kBA9a4aAf836",
        "outputId": "43fc91c2-f9d9-41ce-b3e3-a0bf337bb52c"
      },
      "source": [
        "!pip install medspacy"
      ],
      "execution_count": 2,
      "outputs": [
        {
          "output_type": "stream",
          "text": [
            "Collecting medspacy\n",
            "\u001b[?25l  Downloading https://files.pythonhosted.org/packages/6d/92/2878fea6c830c3e2261248b5d241a55f8ff7d047ce36b7ce1aea3e95a56f/medspacy-0.0.1.4.tar.gz (49kB)\n",
            "\u001b[K     |████████████████████████████████| 51kB 3.6MB/s \n",
            "\u001b[?25hCollecting spacy<3.0.0,>=2.3.0\n",
            "\u001b[?25l  Downloading https://files.pythonhosted.org/packages/50/b2/12466d3018bb84b039139ef76436ea7a01e98125c2aee6a81e527eb4ebe1/spacy-2.3.4-cp36-cp36m-manylinux2014_x86_64.whl (10.4MB)\n",
            "\u001b[K     |████████████████████████████████| 10.4MB 9.4MB/s \n",
            "\u001b[?25hCollecting PyRuSH>=1.0.3.5\n",
            "\u001b[?25l  Downloading https://files.pythonhosted.org/packages/69/d0/7e4132c67e93ca1531e33d4550307eba14709f67df9b7aa11e684fc7ed03/PyRuSH-1.0.3.5-cp36-cp36m-manylinux2010_x86_64.whl (126kB)\n",
            "\u001b[K     |████████████████████████████████| 133kB 26.5MB/s \n",
            "\u001b[?25hRequirement already satisfied: jsonschema in /usr/local/lib/python3.6/dist-packages (from medspacy) (2.6.0)\n",
            "Collecting thinc<7.5.0,>=7.4.1\n",
            "\u001b[?25l  Downloading https://files.pythonhosted.org/packages/21/76/f947dc01e8c37b59c86ac8d69adcc2411dd6b8e5036dc07353f1e5433501/thinc-7.4.4-cp36-cp36m-manylinux2014_x86_64.whl (1.1MB)\n",
            "\u001b[K     |████████████████████████████████| 1.1MB 37.8MB/s \n",
            "\u001b[?25hRequirement already satisfied: preshed<3.1.0,>=3.0.2 in /usr/local/lib/python3.6/dist-packages (from spacy<3.0.0,>=2.3.0->medspacy) (3.0.4)\n",
            "Requirement already satisfied: cymem<2.1.0,>=2.0.2 in /usr/local/lib/python3.6/dist-packages (from spacy<3.0.0,>=2.3.0->medspacy) (2.0.4)\n",
            "Requirement already satisfied: wasabi<1.1.0,>=0.4.0 in /usr/local/lib/python3.6/dist-packages (from spacy<3.0.0,>=2.3.0->medspacy) (0.8.0)\n",
            "Requirement already satisfied: blis<0.8.0,>=0.4.0; python_version >= \"3.6\" in /usr/local/lib/python3.6/dist-packages (from spacy<3.0.0,>=2.3.0->medspacy) (0.4.1)\n",
            "Requirement already satisfied: tqdm<5.0.0,>=4.38.0 in /usr/local/lib/python3.6/dist-packages (from spacy<3.0.0,>=2.3.0->medspacy) (4.41.1)\n",
            "Requirement already satisfied: catalogue<1.1.0,>=0.0.7 in /usr/local/lib/python3.6/dist-packages (from spacy<3.0.0,>=2.3.0->medspacy) (1.0.0)\n",
            "Requirement already satisfied: numpy>=1.15.0 in /usr/local/lib/python3.6/dist-packages (from spacy<3.0.0,>=2.3.0->medspacy) (1.18.5)\n",
            "Requirement already satisfied: setuptools in /usr/local/lib/python3.6/dist-packages (from spacy<3.0.0,>=2.3.0->medspacy) (50.3.2)\n",
            "Requirement already satisfied: requests<3.0.0,>=2.13.0 in /usr/local/lib/python3.6/dist-packages (from spacy<3.0.0,>=2.3.0->medspacy) (2.23.0)\n",
            "Requirement already satisfied: murmurhash<1.1.0,>=0.28.0 in /usr/local/lib/python3.6/dist-packages (from spacy<3.0.0,>=2.3.0->medspacy) (1.0.4)\n",
            "Requirement already satisfied: plac<1.2.0,>=0.9.6 in /usr/local/lib/python3.6/dist-packages (from spacy<3.0.0,>=2.3.0->medspacy) (1.1.3)\n",
            "Requirement already satisfied: srsly<1.1.0,>=1.0.2 in /usr/local/lib/python3.6/dist-packages (from spacy<3.0.0,>=2.3.0->medspacy) (1.0.4)\n",
            "Collecting PyFastNER>=1.0.8b1\n",
            "  Downloading https://files.pythonhosted.org/packages/b5/59/69bc37fb1d40e16e0aed0857997c4e96ecc2ed3b69afe61b643532d3a38f/PyFastNER-1.0.8b9-py3-none-any.whl\n",
            "Requirement already satisfied: importlib-metadata>=0.20; python_version < \"3.8\" in /usr/local/lib/python3.6/dist-packages (from catalogue<1.1.0,>=0.0.7->spacy<3.0.0,>=2.3.0->medspacy) (2.0.0)\n",
            "Requirement already satisfied: certifi>=2017.4.17 in /usr/local/lib/python3.6/dist-packages (from requests<3.0.0,>=2.13.0->spacy<3.0.0,>=2.3.0->medspacy) (2020.11.8)\n",
            "Requirement already satisfied: chardet<4,>=3.0.2 in /usr/local/lib/python3.6/dist-packages (from requests<3.0.0,>=2.13.0->spacy<3.0.0,>=2.3.0->medspacy) (3.0.4)\n",
            "Requirement already satisfied: urllib3!=1.25.0,!=1.25.1,<1.26,>=1.21.1 in /usr/local/lib/python3.6/dist-packages (from requests<3.0.0,>=2.13.0->spacy<3.0.0,>=2.3.0->medspacy) (1.24.3)\n",
            "Requirement already satisfied: idna<3,>=2.5 in /usr/local/lib/python3.6/dist-packages (from requests<3.0.0,>=2.13.0->spacy<3.0.0,>=2.3.0->medspacy) (2.10)\n",
            "Collecting quicksectx\n",
            "\u001b[?25l  Downloading https://files.pythonhosted.org/packages/b9/6b/57a36339c9da6ba20be55990db9bbe4ef997165f73990050fe69699282a8/quicksectx-0.3.0-cp36-cp36m-manylinux2010_x86_64.whl (643kB)\n",
            "\u001b[K     |████████████████████████████████| 645kB 29.9MB/s \n",
            "\u001b[?25hRequirement already satisfied: zipp>=0.5 in /usr/local/lib/python3.6/dist-packages (from importlib-metadata>=0.20; python_version < \"3.8\"->catalogue<1.1.0,>=0.0.7->spacy<3.0.0,>=2.3.0->medspacy) (3.4.0)\n",
            "Requirement already satisfied: cython>=0.24.1 in /usr/local/lib/python3.6/dist-packages (from quicksectx->PyFastNER>=1.0.8b1->PyRuSH>=1.0.3.5->medspacy) (0.29.21)\n",
            "Building wheels for collected packages: medspacy\n",
            "  Building wheel for medspacy (setup.py) ... \u001b[?25l\u001b[?25hdone\n",
            "  Created wheel for medspacy: filename=medspacy-0.0.1.4-cp36-none-any.whl size=61217 sha256=72ae3a28569f764fde06efc1d74d57a6e3c8e22e895bb2a7a9418b921dafc274\n",
            "  Stored in directory: /root/.cache/pip/wheels/c3/db/46/fa10682459cc2198522f0bd363e360c900485b0b9b71029d0c\n",
            "Successfully built medspacy\n",
            "Installing collected packages: thinc, spacy, quicksectx, PyFastNER, PyRuSH, medspacy\n",
            "  Found existing installation: thinc 7.4.0\n",
            "    Uninstalling thinc-7.4.0:\n",
            "      Successfully uninstalled thinc-7.4.0\n",
            "  Found existing installation: spacy 2.2.4\n",
            "    Uninstalling spacy-2.2.4:\n",
            "      Successfully uninstalled spacy-2.2.4\n",
            "Successfully installed PyFastNER-1.0.8b9 PyRuSH-1.0.3.5 medspacy-0.0.1.4 quicksectx-0.3.0 spacy-2.3.4 thinc-7.4.4\n"
          ],
          "name": "stdout"
        }
      ]
    },
    {
      "cell_type": "code",
      "metadata": {
        "colab": {
          "base_uri": "https://localhost:8080/"
        },
        "id": "h9JIvAzMCqF0",
        "outputId": "a3e1bd71-9103-46a5-8e2a-503918e7102e"
      },
      "source": [
        "import medspacy\n",
        "nlp_default = medspacy.load()\n",
        "nlp_default.pipe_names"
      ],
      "execution_count": 4,
      "outputs": [
        {
          "output_type": "stream",
          "text": [
            "/usr/local/lib/python3.6/dist-packages/spacy/util.py:275: UserWarning: [W031] Model 'en_core_web_sm' (2.2.5) requires spaCy v2.2 and is incompatible with the current spaCy version (2.3.4). This may lead to unexpected results or runtime errors. To resolve this, download a newer compatible model or retrain your custom model with the current spaCy version. For more details and available updates, run: python -m spacy validate\n",
            "  warnings.warn(warn_msg)\n"
          ],
          "name": "stderr"
        },
        {
          "output_type": "execute_result",
          "data": {
            "text/plain": [
              "['sentencizer', 'target_matcher', 'context']"
            ]
          },
          "metadata": {
            "tags": []
          },
          "execution_count": 4
        }
      ]
    },
    {
      "cell_type": "code",
      "metadata": {
        "colab": {
          "base_uri": "https://localhost:8080/"
        },
        "id": "WdWocy8dCqF3",
        "outputId": "55b50bc8-eb00-402e-d13c-7b958a17b0cd"
      },
      "source": [
        "# All medspacy components\n",
        "nlp_full = medspacy.load(enable = 'all')\n",
        "print(nlp_full.pipe_names)\n",
        "print(nlp_full.tokenizer)"
      ],
      "execution_count": 6,
      "outputs": [
        {
          "output_type": "stream",
          "text": [
            "/usr/local/lib/python3.6/dist-packages/spacy/util.py:275: UserWarning: [W031] Model 'en_core_web_sm' (2.2.5) requires spaCy v2.2 and is incompatible with the current spaCy version (2.3.4). This may lead to unexpected results or runtime errors. To resolve this, download a newer compatible model or retrain your custom model with the current spaCy version. For more details and available updates, run: python -m spacy validate\n",
            "  warnings.warn(warn_msg)\n"
          ],
          "name": "stderr"
        },
        {
          "output_type": "stream",
          "text": [
            "['sentencizer', 'target_matcher', 'context', 'sectionizer', 'postprocessor']\n",
            "<medspacy.preprocess.preprocessor.Preprocessor object at 0x7fb92afa1fd0>\n"
          ],
          "name": "stdout"
        }
      ]
    },
    {
      "cell_type": "code",
      "metadata": {
        "colab": {
          "base_uri": "https://localhost:8080/"
        },
        "id": "vGMjTgDtCqF4",
        "outputId": "92bebd34-7f82-4e43-e8a0-2bc38b2da8c0"
      },
      "source": [
        "# Only load the target_matcher and custom tokenizer\n",
        "nlp_matcher_only = medspacy.load(enable=[\"tokenizer\", \"target_matcher\"])\n",
        "nlp_matcher_only.pipe_names"
      ],
      "execution_count": 7,
      "outputs": [
        {
          "output_type": "stream",
          "text": [
            "/usr/local/lib/python3.6/dist-packages/spacy/util.py:275: UserWarning: [W031] Model 'en_core_web_sm' (2.2.5) requires spaCy v2.2 and is incompatible with the current spaCy version (2.3.4). This may lead to unexpected results or runtime errors. To resolve this, download a newer compatible model or retrain your custom model with the current spaCy version. For more details and available updates, run: python -m spacy validate\n",
            "  warnings.warn(warn_msg)\n"
          ],
          "name": "stderr"
        },
        {
          "output_type": "execute_result",
          "data": {
            "text/plain": [
              "['target_matcher']"
            ]
          },
          "metadata": {
            "tags": []
          },
          "execution_count": 7
        }
      ]
    },
    {
      "cell_type": "code",
      "metadata": {
        "colab": {
          "base_uri": "https://localhost:8080/"
        },
        "id": "dCV0MN_7CqF5",
        "outputId": "4181e1ca-157d-4b68-b463-bd7e2c1abbca"
      },
      "source": [
        "# Disable the custom tokenizer and context\n",
        "nlp_no_tok_context = medspacy.load(disable=[\"tokenizer\", \"context\"])\n",
        "nlp_no_tok_context.pipe_names"
      ],
      "execution_count": 8,
      "outputs": [
        {
          "output_type": "stream",
          "text": [
            "/usr/local/lib/python3.6/dist-packages/spacy/util.py:275: UserWarning: [W031] Model 'en_core_web_sm' (2.2.5) requires spaCy v2.2 and is incompatible with the current spaCy version (2.3.4). This may lead to unexpected results or runtime errors. To resolve this, download a newer compatible model or retrain your custom model with the current spaCy version. For more details and available updates, run: python -m spacy validate\n",
            "  warnings.warn(warn_msg)\n"
          ],
          "name": "stderr"
        },
        {
          "output_type": "execute_result",
          "data": {
            "text/plain": [
              "['sentencizer', 'target_matcher']"
            ]
          },
          "metadata": {
            "tags": []
          },
          "execution_count": 8
        }
      ]
    },
    {
      "cell_type": "code",
      "metadata": {
        "colab": {
          "base_uri": "https://localhost:8080/"
        },
        "id": "hSqXqoAHhiAW",
        "outputId": "bb9f4ef6-891c-4ebc-8a39-d99a121b01e8"
      },
      "source": [
        "!python -m spacy download en_core_web_sm"
      ],
      "execution_count": 13,
      "outputs": [
        {
          "output_type": "stream",
          "text": [
            "Collecting en_core_web_sm==2.3.1\n",
            "\u001b[?25l  Downloading https://github.com/explosion/spacy-models/releases/download/en_core_web_sm-2.3.1/en_core_web_sm-2.3.1.tar.gz (12.0MB)\n",
            "\u001b[K     |████████████████████████████████| 12.1MB 504kB/s \n",
            "\u001b[?25hRequirement already satisfied: spacy<2.4.0,>=2.3.0 in /usr/local/lib/python3.6/dist-packages (from en_core_web_sm==2.3.1) (2.3.4)\n",
            "Requirement already satisfied: catalogue<1.1.0,>=0.0.7 in /usr/local/lib/python3.6/dist-packages (from spacy<2.4.0,>=2.3.0->en_core_web_sm==2.3.1) (1.0.0)\n",
            "Requirement already satisfied: srsly<1.1.0,>=1.0.2 in /usr/local/lib/python3.6/dist-packages (from spacy<2.4.0,>=2.3.0->en_core_web_sm==2.3.1) (1.0.4)\n",
            "Requirement already satisfied: thinc<7.5.0,>=7.4.1 in /usr/local/lib/python3.6/dist-packages (from spacy<2.4.0,>=2.3.0->en_core_web_sm==2.3.1) (7.4.4)\n",
            "Requirement already satisfied: setuptools in /usr/local/lib/python3.6/dist-packages (from spacy<2.4.0,>=2.3.0->en_core_web_sm==2.3.1) (50.3.2)\n",
            "Requirement already satisfied: plac<1.2.0,>=0.9.6 in /usr/local/lib/python3.6/dist-packages (from spacy<2.4.0,>=2.3.0->en_core_web_sm==2.3.1) (1.1.3)\n",
            "Requirement already satisfied: murmurhash<1.1.0,>=0.28.0 in /usr/local/lib/python3.6/dist-packages (from spacy<2.4.0,>=2.3.0->en_core_web_sm==2.3.1) (1.0.4)\n",
            "Requirement already satisfied: wasabi<1.1.0,>=0.4.0 in /usr/local/lib/python3.6/dist-packages (from spacy<2.4.0,>=2.3.0->en_core_web_sm==2.3.1) (0.8.0)\n",
            "Requirement already satisfied: cymem<2.1.0,>=2.0.2 in /usr/local/lib/python3.6/dist-packages (from spacy<2.4.0,>=2.3.0->en_core_web_sm==2.3.1) (2.0.4)\n",
            "Requirement already satisfied: requests<3.0.0,>=2.13.0 in /usr/local/lib/python3.6/dist-packages (from spacy<2.4.0,>=2.3.0->en_core_web_sm==2.3.1) (2.23.0)\n",
            "Requirement already satisfied: preshed<3.1.0,>=3.0.2 in /usr/local/lib/python3.6/dist-packages (from spacy<2.4.0,>=2.3.0->en_core_web_sm==2.3.1) (3.0.4)\n",
            "Requirement already satisfied: blis<0.8.0,>=0.4.0; python_version >= \"3.6\" in /usr/local/lib/python3.6/dist-packages (from spacy<2.4.0,>=2.3.0->en_core_web_sm==2.3.1) (0.4.1)\n",
            "Requirement already satisfied: tqdm<5.0.0,>=4.38.0 in /usr/local/lib/python3.6/dist-packages (from spacy<2.4.0,>=2.3.0->en_core_web_sm==2.3.1) (4.41.1)\n",
            "Requirement already satisfied: numpy>=1.15.0 in /usr/local/lib/python3.6/dist-packages (from spacy<2.4.0,>=2.3.0->en_core_web_sm==2.3.1) (1.18.5)\n",
            "Requirement already satisfied: importlib-metadata>=0.20; python_version < \"3.8\" in /usr/local/lib/python3.6/dist-packages (from catalogue<1.1.0,>=0.0.7->spacy<2.4.0,>=2.3.0->en_core_web_sm==2.3.1) (2.0.0)\n",
            "Requirement already satisfied: certifi>=2017.4.17 in /usr/local/lib/python3.6/dist-packages (from requests<3.0.0,>=2.13.0->spacy<2.4.0,>=2.3.0->en_core_web_sm==2.3.1) (2020.11.8)\n",
            "Requirement already satisfied: idna<3,>=2.5 in /usr/local/lib/python3.6/dist-packages (from requests<3.0.0,>=2.13.0->spacy<2.4.0,>=2.3.0->en_core_web_sm==2.3.1) (2.10)\n",
            "Requirement already satisfied: chardet<4,>=3.0.2 in /usr/local/lib/python3.6/dist-packages (from requests<3.0.0,>=2.13.0->spacy<2.4.0,>=2.3.0->en_core_web_sm==2.3.1) (3.0.4)\n",
            "Requirement already satisfied: urllib3!=1.25.0,!=1.25.1,<1.26,>=1.21.1 in /usr/local/lib/python3.6/dist-packages (from requests<3.0.0,>=2.13.0->spacy<2.4.0,>=2.3.0->en_core_web_sm==2.3.1) (1.24.3)\n",
            "Requirement already satisfied: zipp>=0.5 in /usr/local/lib/python3.6/dist-packages (from importlib-metadata>=0.20; python_version < \"3.8\"->catalogue<1.1.0,>=0.0.7->spacy<2.4.0,>=2.3.0->en_core_web_sm==2.3.1) (3.4.0)\n",
            "Building wheels for collected packages: en-core-web-sm\n",
            "  Building wheel for en-core-web-sm (setup.py) ... \u001b[?25l\u001b[?25hdone\n",
            "  Created wheel for en-core-web-sm: filename=en_core_web_sm-2.3.1-cp36-none-any.whl size=12047109 sha256=423a1d497b02255c2235bcd8b9524bc7e3e820b0bdbcef919dc0cce30d2c207c\n",
            "  Stored in directory: /tmp/pip-ephem-wheel-cache-f9yloynd/wheels/2b/3f/41/f0b92863355c3ba34bb32b37d8a0c662959da0058202094f46\n",
            "Successfully built en-core-web-sm\n",
            "Installing collected packages: en-core-web-sm\n",
            "  Found existing installation: en-core-web-sm 2.2.5\n",
            "    Uninstalling en-core-web-sm-2.2.5:\n",
            "      Successfully uninstalled en-core-web-sm-2.2.5\n",
            "Successfully installed en-core-web-sm-2.3.1\n",
            "\u001b[38;5;2m✔ Download and installation successful\u001b[0m\n",
            "You can now load the model via spacy.load('en_core_web_sm')\n"
          ],
          "name": "stdout"
        }
      ]
    },
    {
      "cell_type": "code",
      "metadata": {
        "colab": {
          "base_uri": "https://localhost:8080/"
        },
        "id": "lPVKqafGCqF6",
        "outputId": "c85225d9-4744-419c-8b1e-86860574ae24"
      },
      "source": [
        "import spacy\n",
        "en = spacy.load(\"en_core_web_sm\")\n",
        "from medspacy.context import ConTextComponent\n",
        "context = ConTextComponent(en)\n",
        "en.add_pipe(context)\n",
        "en.pipe_names"
      ],
      "execution_count": 14,
      "outputs": [
        {
          "output_type": "execute_result",
          "data": {
            "text/plain": [
              "['tagger', 'parser', 'ner', 'context']"
            ]
          },
          "metadata": {
            "tags": []
          },
          "execution_count": 14
        }
      ]
    },
    {
      "cell_type": "code",
      "metadata": {
        "colab": {
          "resources": {
            "http://localhost:8080/nbextensions/google.colab/files.js": {
              "data": "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",
              "ok": true,
              "headers": [
                [
                  "content-type",
                  "application/javascript"
                ]
              ],
              "status": 200,
              "status_text": "OK"
            }
          },
          "base_uri": "https://localhost:8080/",
          "height": 118
        },
        "id": "wHVzQBjCh-lG",
        "outputId": "81b4e7c7-572b-456f-d4ae-927e8663a786"
      },
      "source": [
        "from google.colab import files\n",
        "files.upload()"
      ],
      "execution_count": 20,
      "outputs": [
        {
          "output_type": "display_data",
          "data": {
            "text/html": [
              "\n",
              "     <input type=\"file\" id=\"files-16c32310-046e-4e64-892c-29c19f464ee0\" name=\"files[]\" multiple disabled\n",
              "        style=\"border:none\" />\n",
              "     <output id=\"result-16c32310-046e-4e64-892c-29c19f464ee0\">\n",
              "      Upload widget is only available when the cell has been executed in the\n",
              "      current browser session. Please rerun this cell to enable.\n",
              "      </output>\n",
              "      <script src=\"/nbextensions/google.colab/files.js\"></script> "
            ],
            "text/plain": [
              "<IPython.core.display.HTML object>"
            ]
          },
          "metadata": {
            "tags": []
          }
        },
        {
          "output_type": "stream",
          "text": [
            "Saving rush_rules.tsv to rush_rules.tsv\n"
          ],
          "name": "stdout"
        },
        {
          "output_type": "execute_result",
          "data": {
            "text/plain": [
              "{'rush_rules.tsv': b'#/*******************************************************************************\\n# * Copyright  2016  Department of Biomedical Informatics, University of Utah\\n# * <p>\\n# * Licensed under the Apache License, Version 2.0 (the \"License\");\\n# * you may not use this file except in compliance with the License.\\n# * You may obtain a copy of the License at\\n# * <p>\\n# * http://www.apache.org/licenses/LICENSE-2.0\\n# * <p>\\n# * Unless required by applicable law or agreed to in writing, software\\n# * distributed under the License is distributed on an \"AS IS\" BASIS,\\n# * WITHOUT WARRANTIES OR CONDITIONS OF ANY KIND, either express or implied.\\n# * See the License for the specific language governing permissions and\\n# * limitations under the License.\\n# *******************************************************************************/\\n\\n#this list is optimized for shorter rule length rules for semeval were added\\n@MaxRepeatLength\\t100\\n@Version\\t1.0.3.4\\n\\n#stbegin is the marker for sentence begin, the span of sentence will start at the begin of the captured group\\n#stbegin has two scores 0, 1: 0 for true sentence begin clues, 1 for false sentence begin clues which will overwrite 0-scored rules when they are overlapping.\\n#stend is the marker for sentence begin, the span of sentence will end at the end of the captured group\\n#stend also has two scores 2, 3: 2 for true sentence end clues, 3 for false sentence end clues which will overwrite 2-scored rules when they are overlapping\\n\\n# \\\\b the begin of an input\\n# \\\\e the end of an input\\n# \\\\d A digit\\n# \\\\C A capital letter\\n# \\\\c A lowercase letter\\n# \\\\s A character of whitespace or tab or Unicode code point 160\\n# \\\\w A character of \\\\s above or Unicode code greater than \\'~\\'\\n# \\\\a A Non-whitespace character\\n# \\\\u A unusual character: Unicode code greater than \\'~\\' (excluding Unicode 160)\\n# \\\\n A return (\\'\\\\n\\' or \\'\\\\r\\')\\n# ( Beginning of capturing a group\\n# ) End of capturing a group\\n# \\\\p A punctuation\\n#\\n# \\\\+ An addition symbol (to distinguish the \"+\" after a wildcard)\\n# \\\\( A left parentheses symbol\\n# \\\\) A right parentheses symbol\\n#\\n#  A wildcard followed by a \"+\": 1 or more characters that match the wildcard\\n\\n\\\\c.\\\\s+(\\\\C)\\t0\\tstbegin\\n mL.\\\\s+(\\\\C)\\t0\\tstbegin\\n*)\\t1\\tstbegin\\n\\\\c\\\\c.\\\\s+(\\\\C)\\t0\\tstbegin\\n\\\\c\\\\).\\\\s+(\\\\C)\\t0\\tstbegin\\n\\\\d\\\\).\\\\s+(\\\\C)\\t0\\tstbegin\\n\\\\C\\\\C\\\\C.\\\\s+(\\\\C)\\\\c\\t0\\tstbegin\\n\\\\d.\\\\s+(\\\\C)\\t0\\tstbegin\\n\\\\n\\\\n\\\\s+(\\\\C)\\t0\\tstbegin\\n Med\\\\n\\\\n\\\\n+(\\\\c+)\\t0\\tstbegin\\n Med\\\\s+\\\\n\\\\n\\\\n+\\\\s+(\\\\c+)\\t0\\tstbegin\\n Med\\\\s+\\\\n+\\\\s+\\\\n+\\\\s+(\\\\c+)\\t0\\tstbegin\\n Normal\\\\s+\\\\n+\\\\s+\\\\n+\\\\s+(\\\\c+)\\t0\\tstbegin\\n\\\\c\\\\c.\\\\n+(\\\\c\\\\c\\t0\\tstbegin\\n\\\\c\\\\c.\\\\n+(\\\\d+\\t0\\tstbegin\\n\\\\d%.\\\\n+(\\\\d+\\t0\\tstbegin\\n\\\\c\\\\c.\\\\n\\\\n\\\\w+(\\\\c+)\\t0\\tstbegin\\n\\\\c\\\\c.\\\\s+\\\\n\\\\n\\\\w+(\\\\c+)\\t0\\tstbegin\\n\\\\c\\\\c.\\\\s+\\\\n\\\\n\\\\w+(\\\\c+)\\t0\\tstbegin\\n\\\\c\\\\c.\\\\n\\\\w+(\\\\c+)\\t0\\tstbegin\\n\\\\c\\\\c.\\\\w+(\\\\c+)\\t0\\tstbegin\\n\\\\c.\\\\n+(\\\\d+)\\\\s\\t0\\tstbegin\\n\\\\c.\\\\s+\\\\n+(\\\\d+)\\\\s\\t0\\tstbegin\\n\\\\c.\\\\n+\\\\s+(\\\\d+)\\\\s\\t0\\tstbegin\\n\\\\c.\\\\s+\\\\n+(\\\\d).\\\\s+\\\\d\\t0\\tstbegin\\n\\\\c.\\\\s+\\\\n+\\\\s+(\\\\d+)\\\\s+\\t0\\tstbegin\\n\\\\c.\\\\n+(\\\\d+).\\\\d+x\\t0\\tstbegin\\n\\\\c.\\\\s+\\\\n+(\\\\d+).\\\\d+x\\t0\\tstbegin\\n\\\\c.\\\\n+\\\\s+(\\\\d+).\\\\d+x\\t0\\tstbegin\\n\\\\c.\\\\s+\\\\n+\\\\s+(\\\\d+).\\\\d+x\\t0\\tstbegin\\n\\\\c.\\\\n+(\\\\d+).\\\\d+*\\t0\\tstbegin\\n\\\\c.\\\\s+\\\\n+(\\\\d+).\\\\d+*\\t0\\tstbegin\\n\\\\c.\\\\n+\\\\s+(\\\\d+).\\\\d+*\\t0\\tstbegin\\n\\\\c.\\\\s+\\\\n+\\\\s+(\\\\d+).\\\\d+*\\t0\\tstbegin\\n\\\\c.\\\\n+(\\\\d+)x\\t0\\tstbegin\\n\\\\c.\\\\s+\\\\n+(\\\\d+)x\\t0\\tstbegin\\n\\\\c.\\\\n+\\\\s+(\\\\d+)x\\t0\\tstbegin\\n\\\\c.\\\\s+\\\\n+\\\\s+(\\\\d+)x\\t0\\tstbegin\\n\\\\c.\\\\n+(\\\\d+)\\\\s+\\\\c\\t0\\tstbegin\\n\\\\c.\\\\s+\\\\n+(\\\\d+)\\\\s+\\\\c\\t0\\tstbegin\\n\\\\c.\\\\n+\\\\s+(\\\\d+)\\\\s+\\\\c\\t0\\tstbegin\\n\\\\c.\\\\s+\\\\n+\\\\s+(\\\\d+)\\\\s+\\\\c\\t0\\tstbegin\\n\\\\c.\\\\n+(\\\\d+)\\\\c\\t0\\tstbegin\\n\\\\c.\\\\s+\\\\n+(\\\\d+)\\\\c\\t0\\tstbegin\\n\\\\c.\\\\n+\\\\s+(\\\\d+)\\\\c\\t0\\tstbegin\\n\\\\c.\\\\s+\\\\n+\\\\s+(\\\\d+)\\\\c\\t0\\tstbegin\\n\\\\n\\\\n\\\\s\\\\w+\\\\d+.(\\\\C)\\t0\\tstbegin\\n\\\\n\\\\n\\\\s\\\\w+\\\\d+.\\\\s+(\\\\C)\\t0\\tstbegin\\n\\\\n\\\\n\\\\s\\\\w+(\\\\d)\\\\s\\t0\\tstbegin\\n\\\\n\\\\n\\\\s\\\\w+(\\\\d+)\\\\s\\t0\\tstbegin\\n\\\\n\\\\n\\\\s\\\\w+(\")\\\\C\\t0\\tstbegin\\n\\\\n\\\\n\\\\d+.(\\\\C)\\t0\\tstbegin\\n\\\\n\\\\d/\\\\s+(\\\\C)\\t0\\tstbegin\\n\\\\n\\\\n(\\\\d+.\\\\s+\\\\C\\t0\\tstbegin\\n\\\\n(\\\\d+.\\\\s+\\\\c\\t0\\tstbegin\\n\\\\n\\\\n(\\\\d)\\\\s\\t0\\tstbegin\\n\\\\n\\\\n(\\\\d+)\\\\s\\t0\\tstbegin\\n\\\\n\\\\n(\")\\\\C\\t0\\tstbegin\\n\\\\n\\\\n(\")\\\\s+\\\\C\\t0\\tstbegin\\n\\\\n\\\\n\\\\s+(\")\\\\s+\\\\C\\t0\\tstbegin\\n\\\\n\\\\n(-\\\\C\\t0\\tstbegin\\n\\\\n(-\\\\C\\t0\\tstbegin\\n\\\\c.\\\\s+\\\\n(-\\\\C\\t0\\tstbegin\\n\\\\c:\\\\s+\\\\n(-\\\\C\\t0\\tstbegin\\n\\\\c.\\\\n(-\\\\C\\t0\\tstbegin\\n\\\\c:\\\\n(-\\\\C\\t0\\tstbegin\\n\\\\n\\\\n\\\\s+(-\\\\C\\t0\\tstbegin\\n\\\\n\\\\n\\\\s+(-\\\\s+\\\\C\\t0\\tstbegin\\n\\\\n\\\\n(-\\\\s+\\\\C\\t0\\tstbegin\\n\\n\\n\\\\n\\\\n(-\\\\s+\\\\c)\\\\c\\t0\\tstbegin\\n\\\\n\\\\n\\\\s+-\\\\s+(\\\\c)\\\\c\\t0\\tstbegin\\n\\\\c.\\\\n(-\\\\c)\\\\c\\t0\\tstbegin\\n\\\\c:\\\\n(-\\\\c)\\\\c\\t0\\tstbegin\\n\\\\c.\\\\s+\\\\n(-\\\\c)\\t0\\tstbegin\\n\\\\c:\\\\s+\\\\n(-\\\\c)\\t0\\tstbegin\\n\\\\n(-\\\\c)\\\\c\\t0\\tstbegin\\n\\\\n (\\xe2\\x80\\xa2  \\\\c\\t0\\tstbegin\\n\\n\\\\c.\\\\n+(-\\\\d)\\t0\\tstbegin\\n\\\\c.\\\\s+\\\\n+(-\\\\d)\\t0\\tstbegin\\n\\\\c.\\\\s+\\\\n+\\\\s+(-\\\\d)\\t0\\tstbegin\\n\\n\\\\n\\\\n*(\\\\C)\\t0\\tstbegin\\n\\\\n\\\\n\\\\s+(*)\\\\C\\t0\\tstbegin\\n\\\\n\\\\n\\\\s+(*)\\\\s+\\\\C\\t0\\tstbegin\\n\\\\n\\\\n(*)\\\\s+\\\\C\\t0\\tstbegin\\n\\\\n\\\\n\\\\s+(\\')\\\\C\\t0\\tstbegin\\n\\\\n\\\\n(\\')\\\\C\\t0\\tstbegin\\n\\\\n\\\\n(\\')\\\\s+\\\\C\\t0\\tstbegin\\n\\\\n\\\\n\\\\s+(\\')\\\\s+\\\\C\\t0\\tstbegin\\n\\\\n\\\\n\\\\s+(%)\\\\C\\t0\\tstbegin\\n\\\\n\\\\n(%)\\\\C\\t0\\tstbegin\\n\\\\n\\\\n(%)\\\\s+\\\\C\\t0\\tstbegin\\n\\\\n\\\\n\\\\s+(%)\\\\s+\\\\C\\t0\\tstbegin\\n\\\\n\\\\n*\\\\p+(\\\\C\\t0\\tstbegin\\n\\\\n\\\\n*\\\\p+\\\\s+(\\\\C\\t0\\tstbegin\\n\\\\n**\\\\p+\\\\s+(\\\\C\\t0\\tstbegin\\n\\\\n**\\\\s+(\\\\C\\t0\\tstbegin\\n\\\\n**\\\\p+(\\\\C\\t0\\tstbegin\\n\\\\n**(\\\\C\\t0\\tstbegin\\n\\\\n**(\\\\d\\t0\\tstbegin\\n\\\\n\\\\n\\\\s+*\\\\p+(\\\\C\\t0\\tstbegin\\n\\\\n\\\\n\\\\s+*\\\\p+\\\\s+\\\\C\\t0\\tstbegin\\n\\\\c.\\\\s+**\\\\p+(\\\\C\\t0\\tstbegin\\n\\n\\\\n\\\\n\\\\s+(\\\\u)\\\\s+\\\\d\\\\s\\t0\\tstbegin\\n\\\\n\\\\n\\\\s+(\\\\u)\\\\s+\\\\d+\\\\s\\t0\\tstbegin\\n\\\\n\\\\n\\\\s+(\\\\u)\\\\s+\\\\d+/\\t0\\tstbegin\\n\\\\n\\\\n\\\\s+(\\\\u)\\\\s+\\\\d/\\t0\\tstbegin\\n\\\\n\\\\n\\\\s+(\\\\u)\\\\s+\\\\c\\t0\\tstbegin\\n\\\\n\\\\n\\\\s+(\\\\u)\\\\s+\\\\C\\t0\\tstbegin\\n\\\\n\\\\n(\\\\u)\\\\s+\\\\C\\t0\\tstbegin\\n?\\\\s+(\\\\C)\\\\c\\t0\\tstbegin\\n?\\\\s+(\\\\d\\t0\\tstbegin\\n!\\\\s+(\\\\C)\\\\c\\t0\\tstbegin\\n!\\\\s+(\\\\d\\t0\\tstbegin\\n\\n\\n\\n#start with time\\n\\\\n\\\\n(\\\\d):\\\\d\\\\s\\t0\\tstbegin\\n\\\\n\\\\n(\\\\d):\\\\d\\\\d\\\\s\\t0\\tstbegin\\n\\\\n\\\\n(\\\\d)\\\\d:\\\\d\\\\d\\\\s\\t0\\tstbegin\\n\\\\n\\\\n(\\\\d)\\\\d:\\\\d\\\\s\\t0\\tstbegin\\n\\\\n\\\\n(\\\\d):\\\\d-\\t0\\tstbegin\\n\\\\n\\\\n(\\\\d):\\\\d\\\\d-\\t0\\tstbegin\\n\\\\n\\\\n(\\\\d)\\\\d:\\\\d\\\\d-\\t0\\tstbegin\\n\\\\n\\\\n(\\\\d)\\\\d:\\\\d-\\t0\\tstbegin\\n\\\\n\\\\n\\\\w+(\\\\d):\\\\d\\\\s\\t0\\tstbegin\\n\\\\n\\\\n\\\\w+(\\\\d):\\\\d\\\\d\\\\s\\t0\\tstbegin\\n\\\\n\\\\n\\\\w+(\\\\d)\\\\d:\\\\d\\\\d\\\\s\\t0\\tstbegin\\n\\\\n\\\\n\\\\w+(\\\\d)\\\\d:\\\\d\\\\s\\t0\\tstbegin\\n\\\\n\\\\n\\\\w+(\\\\d):\\\\d-\\t0\\tstbegin\\n\\\\n\\\\n\\\\w+(\\\\d):\\\\d\\\\d-\\t0\\tstbegin\\n\\\\n\\\\n\\\\w+(\\\\d)\\\\d:\\\\d\\\\d-\\t0\\tstbegin\\n\\\\n\\\\n\\\\w+(\\\\d)\\\\d:\\\\d-\\t0\\tstbegin\\n#start with dates\\n\\\\n\\\\n(\\\\d+)\\\\s+\\t0\\tstbegin\\n\\\\n\\\\n(\\\\d)\\\\d/\\\\d/\\\\d\\\\d\\\\d\\\\d\\t0\\tstbegin\\n\\\\n\\\\n(\\\\d)/\\\\d/\\\\d\\\\d\\\\d\\\\d\\t0\\tstbegin\\n\\\\n\\\\n(\\\\d)\\\\d/\\\\d\\\\d/\\\\d\\\\d\\\\d\\\\d\\t0\\tstbegin\\n\\\\n\\\\n(\\\\d)/\\\\d\\\\d/\\\\d\\\\d\\\\d\\\\d\\t0\\tstbegin\\n\\\\n\\\\n(\\\\d)\\\\d/\\\\d/\\\\d\\\\d\\t0\\tstbegin\\n\\\\n\\\\n(\\\\d)/\\\\d/\\\\d\\\\d\\t0\\tstbegin\\n\\\\n\\\\n(\\\\d)\\\\d/\\\\d\\\\d/\\\\d\\\\d\\t0\\tstbegin\\n\\\\n\\\\n(\\\\d)/\\\\d\\\\d/\\\\d\\\\d\\t0\\tstbegin\\n\\\\n\\\\n(\\\\d)\\\\d/\\\\d\\\\s\\t0\\tstbegin\\n\\\\n\\\\n(\\\\d)/\\\\d\\\\s\\t0\\tstbegin\\n\\\\n\\\\n(\\\\d)\\\\d/\\\\d\\\\d\\\\s\\t0\\tstbegin\\n\\\\n\\\\n(\\\\d)/\\\\d\\\\d/\\\\d\\\\s\\t0\\tstbegin\\n\\\\n+\\\\s\\\\s\\\\s\\\\s(\\\\C)\\t0\\tstbegin\\n\\\\n+\\\\s\\\\s\\\\s(\\\\C)\\t0\\tstbegin\\n\\\\n+\\\\s\\\\s(\\\\C)\\t0\\tstbegin\\n\\\\n+(\\\\C)\\t0\\tstbegin\\n.\\\\s+(N)ow \\t0\\tstbegin\\n.\\\\s+(D)ischarge \\t0\\tstbegin\\n\\n\\\\n(\\\\(-\\\\)\\\\s+\\\\C\\t0\\tstbegin\\n#\\\\n(\\\\(+\\\\)\\\\s+\\\\C\\t0\\tstbegin\\n\\\\n\\xc2\\xa0\\xc2\\xa0\\xc2\\xa0\\xc2\\xa0\\xc2\\xa0\\xc2\\xa0  (\\\\d\\t0\\tstbegin\\n\\\\C:\\\\n+(\\\\d\\t0\\tstbegin\\n\\\\n(\\\\d+).\\\\s+\\\\C\\t0\\tstbegin\\n\\\\n(\\\\d+.\\\\C\\t0\\tstbegin\\n\\\\n\\\\s+(\\\\d.\\\\s+\\\\C\\t0\\tstbegin\\n\\\\n\\\\s+(\\\\d\\\\d.\\\\s+\\\\C\\t0\\tstbegin\\n\\\\n\\\\d.\\\\)\\\\s+(\\\\C\\t0\\tstbegin\\n\\\\n\\\\d\\\\d.\\\\)\\\\s+(\\\\C\\t0\\tstbegin\\n\\\\c:\\\\n+(\\\\a\\t0\\tstbegin\\n\\\\s+\\\\s+(\\\\d\\\\)\\\\s+\\\\C\\t0\\tstbegin\\n\\\\s+\\\\s+(\\\\d\\\\d\\\\)\\\\s+\\\\C\\t0\\tstbegin\\n\\\\n)                                    \\\\d\\\\d\\\\)\\t2\\tstend\\n\\n\\\\c:\\\\n+(\\\\d. \\t0\\tstbegin\\n\\\\d:\\\\n+(\\\\d\\t0\\tstbegin\\n\\n\\\\C:\\\\s+\\\\n+(\\\\d\\t0\\tstbegin\\n\\\\C:\\\\s+\\\\n+(1.\\xc2\\xa0\\t0\\tstbegin\\n\\\\c:\\\\s+\\\\n+(\\\\d\\t0\\tstbegin\\n\\\\d:\\\\s+\\\\n+(\\\\d\\t0\\tstbegin\\n\\\\).\\\\s+(\\\\C\\t0\\tstbegin\\n\\\\n(- \\\\c\\t0\\tstbegin\\n\\\\n(- \\\\C\\t0\\tstbegin\\n\\\\n(# \\\\c\\t0\\tstbegin\\n\\\\n(# \\\\C\\t0\\tstbegin\\n\\\\n(#\\\\C\\t0\\tstbegin\\n\\\\n(#\\\\c\\t0\\tstbegin\\n\\\\n(* \\\\c\\t0\\tstbegin\\n\\\\n(* \\\\C\\t0\\tstbegin\\n\\\\n(? \\\\C\\t0\\tstbegin\\n\\\\n(? \\\\c\\t0\\tstbegin\\n\\\\n(. \\\\C\\t0\\tstbegin\\n\\\\n(+ \\\\C\\t0\\tstbegin\\n\\\\n(/ \\\\C\\t0\\tstbegin\\n\\\\n+\\\\d\\\\d-\\\\d\\\\d\\\\s+(\\\\C\\t0\\tstbegin\\n\\\\n+\\\\d+-\\\\d\\\\d-\\\\d\\\\d\\\\s+(\\\\C\\t0\\tstbegin\\n\\\\n+\\\\d+-\\\\d\\\\d-\\\\d\\\\d\\\\s+:\\\\s+(\\\\C\\t0\\tstbegin\\n\\\\c.\\\\s+\\\\n(\\\\d.\\\\C\\t0\\tstbegin\\n\\\\n(\\\\d\\\\)\\\\s+\\\\C\\t0\\tstbegin\\n\\\\n(\\\\d\\\\d\\\\)\\\\s+\\\\C\\t0\\tstbegin\\n\\\\n(\\\\d\\\\)\\\\s+\\\\c\\t0\\tstbegin\\n\\\\n(\\\\d\\\\)\\\\s+?\\\\c\\t0\\tstbegin\\n\\\\n(\\\\d\\\\d\\\\)\\\\s+\\\\c\\t0\\tstbegin\\n\\\\n(\\\\d\\\\)\\\\C\\t0\\tstbegin\\n\\\\s\\\\s(\\\\d\\\\)\\\\C\\t0\\tstbegin\\n\\\\s\\\\s(\\\\d\\\\)?\\\\s+\\\\C\\t0\\tstbegin\\n\\n\\\\c)\\\\w+\\\\d\\\\)\\\\s+\\\\d+\\\\s+(\\\\c\\t0\\tstbegin\\n\\n\\\\c\\\\w+(\\\\d\\\\)\\\\C\\t0\\tstbegin\\n\\\\d\\\\)\\\\C+\\\\w+(\\\\d\\\\)\\\\c\\t0\\tstbegin\\n\\n\\\\c)\\\\w+\\\\d\\\\)\\t2\\tstend\\n\\\\c)\\\\w+\\\\d\\\\d\\\\)\\t2\\tstend\\n\\\\(\\\\a+\\\\w+\\\\a+\\\\)\\t3\\tstend\\n\\\\c\\\\c)\\\\w+\\\\d\\\\d\\\\),\\t3\\tstend\\n\\\\c\\\\c)\\\\w+\\\\d\\\\),\\t3\\tstend\\n\\\\c\\\\c)\\\\w+\\\\d\\\\).\\t3\\tstend\\n\\\\c\\\\c)\\\\w+\\\\d\\\\d\\\\).\\t3\\tstend\\nfrom \\\\d+ to \\\\d+\\t3\\tstend\\n\\n\\\\C\\\\C)\\\\w+\\\\d\\\\d\\\\),\\t3\\tstend\\n\\\\C\\\\C)\\\\w+\\\\d\\\\),\\t3\\tstend\\n\\\\C\\\\C)\\\\w+\\\\d\\\\).\\t3\\tstend\\n\\\\C\\\\C)\\\\w+\\\\d\\\\d\\\\).\\t3\\tstend\\n\\n\\\\C(\\\\C)\\\\w+\\\\d\\\\)\\t2\\tstend\\n\\\\C(\\\\C)\\\\w+\\\\d\\\\d\\\\)\\t2\\tstend\\n\\\\(\\\\C+\\\\s+\\\\d\\\\d\\\\)\\t3\\tstend\\n\\\\(\\\\c+\\\\s+\\\\d\\\\d\\\\)\\t3\\tstend\\n\\\\d(%)\\\\w+\\\\d\\\\)\\t2\\tstend\\n\\\\d(%)\\\\w+\\\\d\\\\d\\\\)\\t2\\tstend\\n\\\\d)\\\\w+\\\\d\\\\)\\t2\\tstend\\n\\\\d)\\\\w+\\\\d\\\\d\\\\)\\t2\\tstend\\n\\\\d\\\\d-\\\\d\\\\d\\\\s+(.)\\\\s+\\\\C\\t2\\tstend\\n\\\\d\\\\d-\\\\d\\\\d\\\\s+.\\\\s+(\\\\C\\t0\\tstbegin\\n\\\\d\\\\d\\\\d(\\\\d)\\\\s+.\\\\s+\\\\C\\t2\\tstend\\n\\\\d\\\\d\\\\d\\\\d\\\\s+.\\\\s+(\\\\C\\t0\\tstbegin\\n\\n\\\\n(\\\\d.\\\\)\\\\C\\t0\\tstbegin\\n\\\\n(\\\\d.\\\\)\\\\s+\\\\C\\t0\\tstbegin\\n\\\\n\\\\s+(\\\\d.\\\\s+\\\\C\\t0\\tstbegin\\n\\\\n\\\\s+(\\\\d.\\\\)\\\\C\\t0\\tstbegin\\n\\\\n\\\\s+(\\\\d.\\\\)\\\\s+\\\\C\\t0\\tstbegin\\n\\\\n\\\\d.\\\\s+(\\\\d)\\\\d-\\\\d\\\\d\\\\s\\t0\\tstbegin\\n\\\\n\\\\d.\\\\s+(\\\\d)\\\\d-\\\\d\\\\d\\\\d\\\\d\\\\s\\t0\\tstbegin\\n\\\\n\\\\d.\\\\s+(\\\\d)\\\\d-\\\\d\\\\d-\\\\d\\\\d\\\\d\\\\d\\\\s\\t0\\tstbegin\\n\\\\n\\\\(a\\\\)\\\\s+(\\\\C\\t0\\tstbegin\\n\\\\n\\\\(b\\\\)\\\\s+(\\\\C\\t0\\tstbegin\\n\\\\n\\\\(c\\\\)\\\\s+(\\\\C\\t0\\tstbegin\\n\\\\n\\\\(d\\\\)\\\\s+(\\\\C\\t0\\tstbegin\\n\\\\n\\\\(e\\\\)\\\\s+(\\\\C\\t0\\tstbegin\\n\\\\n\\\\(f\\\\)\\\\s+(\\\\C\\t0\\tstbegin\\n\\\\n\\\\(g\\\\)\\\\s+(\\\\C\\t0\\tstbegin\\n\\\\n(\\\\(\\\\d\\\\)\\\\s+\\\\C\\t0\\tstbegin\\n\\\\n(\"\\\\C\\t0\\tstbegin\\n\\n\\n\\n(\\\\a)\\\\s+\\\\n+-\\t2\\tstend\\n\\\\c(\\\\c)\\\\n+ \\\\C\\t2\\tstend\\n\\\\a(.) +\\t2\\tstend\\n\\\\sms. \\t3\\tstend\\n\\\\sMs. \\t3\\tstend\\n\\\\sDr. \\t3\\tstend\\n\\\\sdr. \\t3\\tstend\\n\\\\sMrs. \\t3\\tstend\\n\\\\sMr. \\t3\\tstend\\n\\\\smr. \\t3\\tstend\\n\\\\smrs. \\t3\\tstend\\n\\\\sphd. \\t3\\tstend\\n\\\\sb.i.d.\\\\s+\\\\c \\t3\\tstend\\n\\\\sB.i.d.\\\\s+\\\\c \\t3\\tstend\\n\\\\sB.I.D.\\\\s+\\\\c \\t3\\tstend\\n\\\\sbid.\\\\s+\\\\c \\t3\\tstend\\n\\\\sBID.\\\\s+\\\\c \\t3\\tstend\\n\\\\st.i.d.\\\\s+\\\\c \\t3\\tstend\\n\\\\sT.i.d.\\\\s+\\\\c \\t3\\tstend\\n\\\\sT.I.D.\\\\s+\\\\c \\t3\\tstend\\n\\\\stid.\\\\s+\\\\c \\t3\\tstend\\n\\\\sTID.\\\\s+\\\\c \\t3\\tstend\\n\\\\sq.i.d.\\\\s+\\\\c \\t3\\tstend\\n\\\\sQ.i.d.\\\\s+\\\\c \\t3\\tstend\\n\\\\sQ.I.D.\\\\s+\\\\c \\t3\\tstend\\n\\\\sqid.\\\\s+\\\\c \\t3\\tstend\\n\\\\sQID.\\\\s+\\\\c \\t3\\tstend\\n\\\\sq.d.\\\\s+\\\\c \\t3\\tstend\\n\\\\sQ.d.\\\\s+\\\\c \\t3\\tstend\\n\\\\sQ.D.\\\\s+\\\\c \\t3\\tstend\\n\\\\sqd.\\\\s+\\\\c \\t3\\tstend\\n\\\\sQD.\\\\s+\\\\c \\t3\\tstend\\n\\n\\n\\n\\n mL(.)\\\\s+The \\t2\\tstend\\n\\\\c(.)\\\\s+I\\t2\\tstend\\n\\\\d(.)\\\\s+\\\\C\\t2\\tstend\\n\\\\d(.)\\\\s\\\\C\\t2\\tstend\\n.\\\\s+\\\\d.\\\\s+\\\\C\\t2\\tstend\\n\\\\)(.)\\\\s+\\\\C\\t2\\tstend\\n\\\\p\\\\p\\\\p\\\\s+\\\\n\\\\C\\t2\\tstend\\n\\\\)(.)\\\\s+\\\\n\\\\C\\t2\\tstend\\n\\\\c(\\\\c)\\\\n+\\\\C\\t2\\tstend\\n\\\\c(\\\\c)\\\\s+\\\\n+\\\\C\\t2\\tstend\\n\\\\a\\\\s+\\\\n\\\\n\\t2\\tstend\\n\\\\a\\\\n\\\\n\\t2\\tstend\\n\\\\c)********\\t2\\tstend\\n\\\\c)**\\\\n\\t2\\tstend\\n\\\\c)**\\\\s+\\\\n\\t2\\tstend\\n\\\\c)**\\\\p+\\\\s+\\\\n\\t2\\tstend\\n\\\\c)**\\\\p+\\\\n\\t2\\tstend\\n\\\\c)\\\\s+**\\\\p+\\\\s+\\\\n\\t2\\tstend\\n\\\\c\\\\s+**\\\\p+\\\\n\\t2\\tstend\\n\\\\c\\\\s+\\\\n\\\\w+**\\t2\\tstend\\n\\\\c.\\\\s+\\\\n\\\\w+**\\t2\\tstend\\n\\\\d(.)\\\\s+\\\\n\\\\w+**\\t2\\tstend\\n(\\\\d)**\\\\p+\\\\s+\\\\n\\t2\\tstend\\n\\\\d**\\\\p+\\\\n\\t2\\tstend\\n.\\\\s+**\\\\p+\\\\s+\\\\n\\t2\\tstend\\n.\\\\s+**\\\\p+\\\\n\\t2\\tstend\\n.**\\\\p+\\\\s+\\\\n\\t2\\tstend\\n.**\\\\s+\\\\p+\\\\n\\t2\\tstend\\n.**\\\\p+\\\\s+\\\\p+\\\\n\\t2\\tstend\\n.**\\\\p+\\\\n\\t2\\tstend\\n.**\\\\s+\\\\n\\\\n\\t2\\tstend\\n.**\\\\n\\\\n\\t2\\tstend\\n.\\\\s+**\\\\s+\\\\n\\\\n\\t2\\tstend\\n.\\\\s+**\\\\n\\\\n\\t2\\tstend\\n:**\\\\p+\\\\n\\t2\\tstend\\n:**\\\\s+\\\\n\\\\n\\t2\\tstend\\n:**\\\\s+\\\\n\\\\w+\\t2\\tstend\\n:**\\\\n\\\\n\\t2\\tstend\\n:\\\\s+**\\\\s+\\\\n\\\\n\\t2\\tstend\\n:\\\\s+**\\\\n\\\\n\\t2\\tstend\\n:)\\\\n\\\\u\\\\s+\\\\C\\t2\\tstend\\n\\\\d**\\\\s+\\\\n\\\\n\\t2\\tstend\\n\\\\d**\\\\n\\\\n\\t2\\tstend\\n\\\\a\\\\s+\\\\n+**\\t2\\tstend\\n\\\\a\\\\s+\\\\n\\\\w+**\\\\p+\\\\C\\t2\\tstend\\n\\\\c(.\\\\s+**\\\\p+\\\\C\\t2\\tstend\\n\\\\d)\\\\s+\\\\n+\\\\d.\\\\s+\\\\C\\t2\\tstend\\n\\\\d)\\\\s+\\\\n+\\\\d\\\\d.\\\\s+\\\\C\\t2\\tstend\\n\\\\c)\\\\s+\\\\n+\\\\d.\\\\s+\\\\C\\t2\\tstend\\n\\\\c)\\\\s+\\\\n+\\\\d\\\\d.\\\\s+\\\\C\\t2\\tstend\\n\\\\C)\\\\s+\\\\n+\\\\d.\\\\s+\\\\C\\t2\\tstend\\n\\\\C)\\\\s+\\\\n+\\\\d\\\\d.\\\\s+\\\\C\\t2\\tstend\\n\\\\d)\\\\s+\\\\n+\\\\d.\\\\s+\\\\c\\t2\\tstend\\n\\\\c)\\\\s+\\\\n+\\\\d.\\\\s+\\\\c\\t2\\tstend\\n\\\\c)\\\\s+\\\\n+\\\\d\\\\d.\\\\s+\\\\c\\t2\\tstend\\n\\\\C)\\\\s+\\\\n+\\\\d.\\\\s+\\\\c\\t2\\tstend\\n\\\\C)\\\\s+\\\\n+\\\\d\\\\d.\\\\s+\\\\c\\t2\\tstend\\n\\n\\\\c(\\\\))\\\\s+\\\\n\\\\n\\t2\\tstend\\n\\\\c\\\\c(.)\\\\s+\\\\C\\t2\\tstend\\n\\\\c(.)\\\\s+\\\\n\\t2\\tstend\\n\\\\d(.)\\\\n\\t2\\tstend\\n\\\\c(:)\\\\n\\t2\\tstend\\n\\\\C(:)\\\\n\\t2\\tstend\\n\\\\d(:)\\\\n\\t2\\tstend\\n\\\\c(:)\\\\s+\\\\n\\t2\\tstend\\n\\\\C(:)\\\\s+\\\\n\\t2\\tstend\\n\\\\d(:)\\\\s+\\\\n\\t2\\tstend\\n\\\\C\\\\C\\\\C(.)\\\\s+\\\\C\\\\c\\t2\\tstend\\n\\\\C(.)\\\\n\\t2\\tstend\\n\\\\)(.)\\\\n\\t2\\tstend\\n](.)\\\\n\\t2\\tstend\\n\\\\c(.)\\\\n\\t2\\tstend\\n\\n\\n\\\\n\\\\d+(.)\\\\s+\\\\C\\t3\\tstend\\n\\\\d+.\\\\C+(:)\\\\s+\\\\n\\t3\\tstend\\nMrs(.) \\t3\\tstend\\nMiss(.) \\t3\\tstend\\nMr(.) \\t3\\tstend\\nMs(.) \\t3\\tstend\\n\\\\c\\\\n+\\\\c\\t3\\tstend\\n\\\\c\\\\n+\\\\s+\\\\c\\t3\\tstend\\n\\\\c\\\\s+\\\\n+\\\\c\\t3\\tstend\\n\\\\c\\\\s+\\\\n+\\\\s+\\\\c\\t3\\tstend\\n\\n,\\\\w+\\\\c\\\\c\\t3\\tstend\\n,\\\\n\\\\w+\\\\c\\\\c\\t3\\tstend\\n,\\\\w+\\\\c\\\\c\\t3\\tstend\\n,\\\\w+\\\\d+ \\t3\\tstend\\n,\\\\n\\\\w+\\\\d+ \\t3\\tstend\\n,\\\\w+\\\\d+ \\t3\\tstend\\n;\\\\w+\\\\c\\\\c\\t3\\tstend\\n\\n\\\\)\\\\w+\\\\c\\\\c\\t3\\tstend\\n\\\\)\\\\n\\\\w+\\\\c\\\\c\\t3\\tstend\\n\\\\)\\\\w+\\\\d \\t3\\tstend\\n\\\\)\\\\n\\\\w+\\\\d+ \\t3\\tstend\\n\\\\)\\\\w+\\\\d \\t3\\tstend\\n\\\\c)\\\\s+\\\\d+\\\\)\\\\s+\\\\d+\\\\s+.\\t2\\tstend\\n\\\\d+\\\\s+.\\\\s+(\\\\C\\t0\\tstbegin\\n\\n\\\\s+\\\\C(\\\\C)\\\\w+\\\\c\\\\c\\t3\\tstend\\n\\\\s+\\\\C\\\\C(\\\\C)\\\\w+\\\\c\\\\c\\t3\\tstend\\n\\\\s+\\\\C\\\\C\\\\C(\\\\C)\\\\w+\\\\c\\\\c\\t3\\tstend\\n\\nA\\\\w+\\\\c\\\\c\\t3\\tstend\\nA\\\\n\\\\w+\\\\c\\\\c\\t3\\tstend\\nA\\\\w+\\\\c\\\\c\\t3\\tstend\\nA\\\\w+\\\\d+ \\t3\\tstend\\nA\\\\n\\\\w+\\\\d+ \\t3\\tstend\\nA\\\\w+\\\\d+ \\t3\\tstend\\n\\n\\\\d+)\\\\w+week\\t3\\tstend\\n\\\\d+)\\\\w+month\\t3\\tstend\\n\\\\d+)\\\\w+\\\\day\\t3\\tstend\\n\\\\d+)\\\\w+year\\t3\\tstend\\n\\\\d+)\\\\w+cm \\t3\\tstend\\n\\\\d+)\\\\w+m \\t3\\tstend\\n\\\\d+)\\\\w+mg \\t3\\tstend\\n\\\\d+)\\\\w+g \\t3\\tstend\\n\\\\d+)\\\\w+kg \\t3\\tstend\\n\\\\d+)\\\\w+lb \\t3\\tstend\\n\\\\d+)\\\\w+feet \\t3\\tstend\\n\\\\d+)\\\\w+inch \\t3\\tstend\\n\\\\d+)\\\\w+ml \\t3\\tstend\\n\\\\d+)\\\\w+ou \\t3\\tstend\\n\\\\d+)\\\\w+ounce \\t3\\tstend\\n\\\\d+)\\\\w+total dose\\t3\\tstend\\n\\\\d+)\\\\w+dose\\t3\\tstend\\n\\\\d+)\\\\w+tablet\\t3\\tstend\\n\\n#start with number + units\\n\\\\c\\\\n+\\\\d+\\\\s+\\\\c\\\\c\\t3\\tstend\\n\\\\c\\\\n+\\\\s+\\\\d+\\\\s+\\\\c\\\\c\\t3\\tstend\\n\\\\c\\\\s+\\\\n+\\\\d+\\\\s+\\\\c\\\\c\\t3\\tstend\\n\\\\c\\\\s+\\\\n+\\\\d+\\\\s+\\\\s+\\\\c\\\\c\\t3\\tstend\\n#start with float + units\\n\\\\c\\\\n+\\\\d+.\\\\d+\\\\s+\\\\c\\\\c\\t3\\tstend\\n\\\\c\\\\n+\\\\s+\\\\d+.\\\\d+\\\\s+\\\\c\\\\c\\t3\\tstend\\n\\\\c\\\\s+\\\\n+\\\\d+.\\\\d+\\\\s+\\\\c\\\\c\\t3\\tstend\\n\\\\c\\\\s+\\\\n+\\\\d+.\\\\d+\\\\s+\\\\s+\\\\c\\\\c\\t3\\tstend\\n\\nare:\\\\s+\\\\n+\\\\c\\t3\\tstend\\n\\\\sis:\\\\s+\\\\n+\\\\c\\t3\\tstend\\nwas:\\\\s+\\\\n+\\\\c\\t3\\tstend\\nwere:\\\\s+\\\\n+\\\\c\\t3\\tstend\\nare:\\\\n+\\\\c\\t3\\tstend\\n\\\\sis:\\\\n+\\\\c\\t3\\tstend\\nwas:\\\\n+\\\\c\\t3\\tstend\\nwere:\\\\n+\\\\c\\t3\\tstend\\nare:\\\\n+\\\\s+\\\\c\\t3\\tstend\\n\\\\sis:\\\\n+\\\\s+\\\\c\\t3\\tstend\\nwas:\\\\n+\\\\s+\\\\c\\t3\\tstend\\nwere:\\\\n+\\\\s+\\\\c\\t3\\tstend\\nare:\\\\s+\\\\n+\\\\s+\\\\c\\t3\\tstend\\n\\\\sis:\\\\s+\\\\n+\\\\s+\\\\c\\t3\\tstend\\nwas:\\\\s+\\\\n+\\\\s+\\\\c\\t3\\tstend\\nwere:\\\\s+\\\\n+\\\\s+\\\\c\\t3\\tstend\\n#:\\\\n+\\\\c)+\\t3\\tstend\\n#:\\\\s+\\\\n+\\\\c\\\\c\\t3\\tstend\\n#:\\\\n+\\\\s+\\\\c\\\\c\\t3\\tstend\\n#:\\\\s+\\\\n+\\\\s+\\\\c\\\\c\\t3\\tstend\\n\\\\spulm.\\t3\\tstend\\n\\n mL\\\\n+\\\\c)+\\t3\\tstend\\n mL\\\\s+\\\\n+\\\\c\\\\c\\t3\\tstend\\n mL\\\\n+\\\\s+\\\\c\\\\c\\t3\\tstend\\n mL\\\\s+\\\\n+\\\\s+\\\\c\\\\c\\t3\\tstend\\n\\n\\n\\\\a)\\\\s+\\\\n\\\\n\\\\n+ \\xe2\\x80\\xa2  \\t2\\tstend\\n\\\\s+\\\\n\\\\n+\\\\s+\\\\C\\t2\\tstend\\n\\\\d+.\\\\s+\\\\C+(:\\\\s+\\\\n\\\\n+\\\\s+\\\\C\\\\c+\\\\s+\\\\d+.\\t3\\tstend\\n\\\\d+.\\\\s+\\\\C\\\\c+(:\\\\s+\\\\n\\\\n+\\\\s+\\\\C\\\\c+\\\\s+\\\\d+.\\t3\\tstend\\n\\\\a\\\\w+_______________\\t2\\tstend\\n\\\\a(\\\\p)\\\\w+_______________\\t2\\tstend\\n(\\\\c)\\\\n- \\\\c\\t2\\tstend\\n(\\\\c)\\\\n- \\\\C\\t2\\tstend\\n\\\\c.(\")\\\\s+\\\\C\\t2\\tstend\\n\\\\c.\"\\\\s+(\\\\C\\t0\\tstbegin\\n\\nHeart\\\\nFailure\\t3\\tstend\\n and\\\\s+\\\\n\\\\n\\t3\\tstend\\n that\\\\s+\\\\n\\\\n\\t3\\tstend\\n for\\\\s+\\\\n+\\t3\\tstend\\n had\\\\s+\\\\n+\\t3\\tstend\\n have\\\\s+\\\\n+\\t3\\tstend\\n has\\\\s+\\\\n+\\t3\\tstend\\n \"I\\\\s+\\\\n\\\\n\\t3\\tstend\\n I\\\\s+\\\\n\\\\n\\t3\\tstend\\n\\\\(\\\\C+\\\\s+\\\\n\\\\n\\t3\\tstend\\n\\\\(\\\\c+\\\\s+\\\\n\\\\n\\t3\\tstend\\n\\\\n(rhabdomyolysis:\\\\n\\t0\\tstbegin\\n.\\\\s+\\\\n+(\\\\c+\\\\s+\\\\c+\\\\s+\\\\c+\\\\s+\\\\c+:\\\\n\\t0\\tstbegin\\n.\\\\s+\\\\n+(\\\\c+\\\\s+\\\\c+\\\\s+\\\\c+:\\\\n\\t0\\tstbegin\\n.\\\\s+\\\\n+(\\\\c+\\\\s+\\\\c+\\\\s+\\\\c+:\\\\n\\t0\\tstbegin\\n#\\\\w+(H)istory of Present Illness:\\t0\\tstbegin\\n\\\\c)\\\\w+History of Present Illness:\\t2\\tstend\\n\\\\C)\\\\w+History of Present Illness:\\t2\\tstend\\n\\\\p)\\\\w+History of Present Illness:\\t2\\tstend\\n\\\\c)\\\\w+History of present illness:\\t2\\tstend\\n\\\\C)\\\\w+History of present illness:\\t2\\tstend\\n\\\\p)\\\\w+History of present illness:\\t2\\tstend\\n\\\\c)\\\\w+HISTORY OF PRESENT ILLNESS:\\t2\\tstend\\n\\\\C)\\\\w+HISTORY OF PRESENT ILLNESS:\\t2\\tstend\\n\\\\p)\\\\w+HISTORY OF PRESENT ILLNESS:\\t2\\tstend\\n\\\\c)\\\\w+Past Medical History:\\t2\\tstend\\n\\\\C)\\\\w+Past Medical History:\\t2\\tstend\\n\\\\p)\\\\w+Past Medical History:\\t2\\tstend\\n\\\\c)\\\\w+History of Past Illness:\\t2\\tstend\\n\\\\C)\\\\w+History of Past Illness:\\t2\\tstend\\n\\\\p)\\\\w+History of Past Illness:\\t2\\tstend\\n\\\\c)\\\\w+Chief Complaint:\\t2\\tstend\\n\\\\C)\\\\w+Chief Complaint:\\t2\\tstend\\n\\\\p)\\\\w+Chief Complaint:\\t2\\tstend\\n\\\\c)\\\\w+Chief Complaint:\\t2\\tstend\\n\\\\C)\\\\w+Chief Complaint:\\t2\\tstend\\n\\\\p)\\\\w+Chief Complaint:\\t2\\tstend\\n.)\\\\s+The\\t2\\tstend\\n.\\\\s+(The\\t0\\tstbegin\\n.\\\\s+(\\\\d.\\\\s+\\\\C\\t0\\tstbegin\\n.\\\\s+(\\\\d.\\\\C\\t0\\tstbegin\\n\\\\c(.\\\\s+\\\\d.\\\\C\\t2\\tstend\\n\\n\\n\\\\c)\\\\w+REASON FOR\\t2\\tstend\\n\\\\C)\\\\w+REASON FOR\\t2\\tstend\\n\\\\d)\\\\w+REASON FOR\\t2\\tstend\\n\\\\p)\\\\w+REASON FOR\\t2\\tstend\\n\\\\c)\\\\w+\\\\w+REASON FOR\\t2\\tstend\\n\\\\C)\\\\w+\\\\w+REASON FOR\\t2\\tstend\\n\\\\d)\\\\w+\\\\w+REASON FOR\\t2\\tstend\\n\\\\p)\\\\w+\\\\w+REASON FOR\\t2\\tstend\\n\\\\c)\\\\w+Reason For\\t2\\tstend\\n\\\\C)\\\\w+Reason For\\t2\\tstend\\n\\\\d)\\\\w+Reason For\\t2\\tstend\\n\\\\p)\\\\w+Reason For\\t2\\tstend\\n\\\\c)\\\\w+\\\\w+Reason For\\t2\\tstend\\n\\\\C)\\\\w+\\\\w+Reason For\\t2\\tstend\\n\\\\d)\\\\w+\\\\w+Reason For\\t2\\tstend\\n\\\\p)\\\\w+\\\\w+Reason For\\t2\\tstend\\nR)EASON FOR\\t0\\tstbegin\\n#REASON FOR THIS EXAMINATION(:\\t2\\tstend\\n#REASON FOR\\\\w+(\\\\d\\t0\\tstbegin\\n#REASON FOR\\\\w+(\\\\C\\t0\\tstbegin\\n#REASON FOR\\\\w+(\\\\c\\t0\\tstbegin\\n#REASON FOR\\\\w+(\\\\p\\t0\\tstbegin\\n#Reason For This Examination(:\\t2\\tstend\\n#Reason For\\\\w+(\\\\d\\t0\\tstbegin\\n#Reason For\\\\w+(\\\\C\\t0\\tstbegin\\n#Reason For\\\\w+(\\\\c\\t0\\tstbegin\\n#Reason For\\\\w+(\\\\p\\t0\\tstbegin\\n\\n\\n\\\\c)\\\\w+INDICATION:\\t2\\tstend\\n\\\\C)\\\\w+INDICATION:\\t2\\tstend\\n\\\\d)\\\\w+INDICATION:\\t2\\tstend\\n\\\\p)\\\\w+INDICATION:\\t2\\tstend\\n\\\\c)\\\\w+Indication:\\t2\\tstend\\n\\\\C)\\\\w+Indication:\\t2\\tstend\\n\\\\d)\\\\w+Indication:\\t2\\tstend\\n\\\\p)\\\\w+Indication:\\t2\\tstend\\n#INDICATION(:\\t2\\tstend\\n#INDICATION:\\\\w+(\\\\d\\t0\\tstbegin\\n#INDICATION:\\\\w+(\\\\C\\t0\\tstbegin\\n#INDICATION:\\\\w+(\\\\c\\t0\\tstbegin\\n#INDICATION:\\\\w+(\\\\p\\t0\\tstbegin\\n#Indication(:\\t2\\tstend\\n#Indication:\\\\w+(\\\\d\\t0\\tstbegin\\n#Indication:\\\\w+(\\\\C\\t0\\tstbegin\\n#Indication:\\\\w+(\\\\c\\t0\\tstbegin\\n#Indication:\\\\w+(\\\\p\\t0\\tstbegin\\n\\n\\n\\\\c)\\\\w+REASON:\\t2\\tstend\\n\\\\C)\\\\w+REASON:\\t2\\tstend\\n\\\\d)\\\\w+REASON:\\t2\\tstend\\n\\\\p)\\\\w+REASON:\\t2\\tstend\\n\\\\c)\\\\w+Reason:\\t2\\tstend\\n\\\\C)\\\\w+Reason:\\t2\\tstend\\n\\\\d)\\\\w+Reason:\\t2\\tstend\\n\\\\p)\\\\w+Reason:\\t2\\tstend\\n#REASON(:\\t2\\tstend\\n#REASON:\\\\w+(\\\\d\\t0\\tstbegin\\n#REASON:\\\\w+(\\\\C\\t0\\tstbegin\\n#REASON:\\\\w+(\\\\c\\t0\\tstbegin\\n#REASON:\\\\w+(\\\\p\\t0\\tstbegin\\n#Reason(:\\t2\\tstend\\n#Reason:\\\\w+(\\\\d\\t0\\tstbegin\\n#Reason:\\\\w+(\\\\C\\t0\\tstbegin\\n#Reason:\\\\w+(\\\\c\\t0\\tstbegin\\n#Reason:\\\\w+(\\\\p\\t0\\tstbegin\\n\\n\\\\a)\\\\w+Admitting Diagnosis:\\t2\\tstend\\n\\\\a)\\\\w+ADMITTING DIAGNOSIS:\\t2\\tstend\\n\\\\a\\\\w+(A)dmitting Diagnosis:\\t0\\tstbegin\\n\\\\a\\\\w+(A)DMITTING DIAGNOSIS:\\t0\\tstbegin\\n#Admitting Diagnosis(:\\t2\\tstend\\n#Admitting Diagnosis:\\\\w+(\\\\d\\t0\\tstbegin\\n#Admitting Diagnosis:\\\\w+(\\\\C\\t0\\tstbegin\\n#Admitting Diagnosis:\\\\w+(\\\\c\\t0\\tstbegin\\n#Admitting Diagnosis:\\\\w+(\\\\p\\t0\\tstbegin\\n#ADMITTING DIAGNOSIS(:\\t2\\tstend\\n#ADMITTING DIAGNOSIS:\\\\w+(\\\\d\\t0\\tstbegin\\n#ADMITTING DIAGNOSIS:\\\\w+(\\\\C\\t0\\tstbegin\\n#ADMITTING DIAGNOSIS:\\\\w+(\\\\c\\t0\\tstbegin\\n#ADMITTING DIAGNOSIS:\\\\w+(\\\\p\\t0\\tstbegin\\n\\n\\n\\\\c)\\\\w+Discharge Diagnosis:\\t2\\tstend\\n\\\\d)\\\\w+Discharge Diagnosis:\\t2\\tstend\\n\\\\p)\\\\w+Discharge Diagnosis:\\t2\\tstend\\n\\\\C)\\\\w+Discharge Diagnosis:\\t2\\tstend\\n\\\\c)\\\\w+DISCHARGE DIAGNOSIS:\\t2\\tstend\\n\\\\C)\\\\w+DISCHARGE DIAGNOSIS:\\t2\\tstend\\n\\\\d)\\\\w+DISCHARGE DIAGNOSIS:\\t2\\tstend\\n\\\\p)\\\\w+DISCHARGE DIAGNOSIS:\\t2\\tstend\\n#Discharge Diagnosis(:\\t2\\tstend\\n#Discharge Diagnosis:\\\\w+(\\\\d\\t0\\tstbegin\\n#Discharge Diagnosis:\\\\w+(\\\\C\\t0\\tstbegin\\n#Discharge Diagnosis:\\\\w+(\\\\c\\t0\\tstbegin\\n#Discharge Diagnosis:\\\\w+(\\\\p\\t0\\tstbegin\\n#DISCHARGE DIAGNOSIS(:\\t2\\tstend\\n#DISCHARGE DIAGNOSIS:\\\\w+(\\\\d\\t0\\tstbegin\\n#DISCHARGE DIAGNOSIS:\\\\w+(\\\\C\\t0\\tstbegin\\n#DISCHARGE DIAGNOSIS:\\\\w+(\\\\c\\t0\\tstbegin\\n#DISCHARGE DIAGNOSIS:\\\\w+(\\\\p\\t0\\tstbegin\\n\\n\\\\c)\\\\w+FINDINGS:\\t2\\tstend\\n\\\\C)\\\\w+FINDINGS:\\t2\\tstend\\n\\\\d)\\\\w+FINDINGS:\\t2\\tstend\\n\\\\p)\\\\w+FINDINGS:\\t2\\tstend\\nF)INDINGS:\\t0\\tstbegin\\n#FINDINGS(:\\t2\\tstend\\n#FINDINGS:\\\\w+(\\\\d\\t0\\tstbegin\\n#FINDINGS:\\\\w+(\\\\C\\t0\\tstbegin\\n#FINDINGS:\\\\w+(\\\\c\\t0\\tstbegin\\n#FINDINGS:\\\\w+(\\\\p\\t0\\tstbegin\\n\\\\c)\\\\w+Findings:\\t2\\tstend\\n\\\\C)\\\\w+Findings:\\t2\\tstend\\n\\\\d)\\\\w+Findings:\\t2\\tstend\\n\\\\p)\\\\w+Findings:\\t2\\tstend\\n#Findings(:\\t2\\tstend\\n#Findings:\\\\w+(\\\\d\\t0\\tstbegin\\n#Findings:\\\\w+(\\\\C\\t0\\tstbegin\\n#Findings:\\\\w+(\\\\c\\t0\\tstbegin\\n#Findings:\\\\w+(\\\\p\\t0\\tstbegin\\n\\n\\n#Brief Hospital Course(:\\t2\\tstend\\n#Brief Hospital Course:\\\\w+(\\\\d\\t0\\tstbegin\\n#Brief Hospital Course:\\\\w+(\\\\C\\t0\\tstbegin\\n#Brief Hospital Course:\\\\w+(\\\\c\\t0\\tstbegin\\n#Brief Hospital Course:\\\\w+(\\\\p\\t0\\tstbegin\\n\\n\\n\\n\\n\\\\c(?)\\\\w+\\t2\\tstend\\n\\\\C(?)\\\\w+\\t2\\tstend\\n\\\\d(?)\\\\w+\\t2\\tstend\\n:\\\\w+(?\\\\w+\\t3\\tstend\\n\\n\\nD(.)\\\\s+\\\\n+\\\\d+.\\\\s+\\\\C\\t2\\tstend\\nN(.)\\\\s+\\\\n+\\\\d+.\\\\s+\\\\C\\t2\\tstend\\nNPO(.)\\\\s+\\\\n+\\\\C\\t2\\tstend\\n\\\\)(.)\\\\w+\\\\d+.\\\\s+\\\\C\\t2\\tstend\\n\\\\c+\\\\s+(.)\\\\s+\\\\C\\\\c+\\t2\\tstend\\n\\\\c+\\\\s+.\\\\s+(\\\\C\\\\c+\\t0\\tstbegin\\nP(M\\\\n\\\\C\\t2\\tstend\\n\\\\a)\\\\s\\\\s\\\\s\\\\s+Reason:\\t2\\tstend\\n\\\\s\\\\s\\\\s\\\\s+(Reason:\\t0\\tstbegin\\n\\\\a)\\\\s\\\\s\\\\s\\\\s+Admitting Diagnosis:\\t2\\tstend\\n\\\\s\\\\s\\\\s\\\\s+(Admitting Diagnosis:\\t0\\tstbegin\\n\\\\a)\\\\s\\\\s\\\\s\\\\s+Sex:\\t2\\tstend\\n\\\\s\\\\s\\\\s\\\\s+(Sex:\\t0\\tstbegin\\n\\\\a)\\\\s\\\\s\\\\s\\\\s+Discharge Date:\\t2\\tstend\\n\\\\s\\\\s\\\\s\\\\s+(Discharge Date:\\t0\\tstbegin\\ndail(y\\\\n-\\t2\\tstend\\nqh(s\\\\n-\\t2\\tstend\\ndail(y\\\\n-\\t2\\tstend\\n\\\\sq(d\\\\n-\\t2\\tstend\\nQH(S\\\\n-\\t2\\tstend\\n\\\\a)\\\\s+Refills:\\t2\\tstend\\n\\\\a)*\\\\s+Refills:\\t2\\tstend\\n\\\\a\\\\s+(Refills:\\t0\\tstbegin\\n\\\\a)\\\\n\\\\C:\\t2\\tstend\\n\\\\a)\\\\s+\\\\n\\\\C:\\t2\\tstend\\n\\\\n(\\\\C:\\t0\\tstbegin\\n\\\\n(JOB#:\\t0\\tstbegin\\n\\\\a)\\\\nJOB#:\\t2\\tstend\\n\\\\a)\\\\s+\\\\nJOB#:\\t2\\tstend\\n\\\\n(Signed\\\\s\\t0\\tstbegin\\n\\\\a)\\\\s\\\\s\\\\s\\\\w+Signed\\\\s\\t2\\tstend\\n\\\\c)\\\\n+Signed\\\\s\\t2\\tstend\\n\\\\d)\\\\n+Signed\\\\s\\t2\\tstend\\n\\\\p)\\\\n+Signed\\\\s\\t2\\tstend\\n\\\\(End of Report\\t0\\tstbegin\\n\\\\a)\\\\w+\\\\(End of Report\\\\)\\t2\\tstend\\nInstructions(:\\\\n+\\\\a\\t2\\tstend\\nInstructions:\\\\n+(\\\\a\\t0\\tstbegin\\n\\\\n+(Follow\\t0\\tstbegin\\n\\\\a)\\\\w+\\\\n+Follow\\t2\\tstend\\n\\\\d+\\\\s+\\\\n+total dose\\t3\\tstend\\n\\\\a)\\\\n+\\\\C\\\\c+:\\t2\\tstend\\n\\\\a\\\\n+(\\\\C\\\\c+:\\t0\\tstbegin\\n\\\\a)\\\\n+\\\\C\\\\C+:\\t2\\tstend\\n\\\\a\\\\n+(\\\\C\\\\C+:\\t0\\tstbegin\\n\\\\a)\\\\s+\\\\n+\\\\C\\\\C+:\\t2\\tstend\\n\\\\a\\\\s+\\\\n+(\\\\C\\\\C+:\\t0\\tstbegin\\n\\n\\\\c)\\\\n+\\\\C\\\\C+\\\\s\\\\(\\\\a\\\\a+\\\\):\\t2\\tstend\\n\\\\c\\\\n+(\\\\C\\\\C+\\\\s\\\\(\\\\a\\\\a+\\\\):\\t0\\tstbegin\\n\\\\d)\\\\n+\\\\C\\\\C+\\\\s\\\\(\\\\a\\\\a+\\\\):\\t2\\tstend\\n\\\\d\\\\n+(\\\\C\\\\C+\\\\s\\\\(\\\\a\\\\a+\\\\):\\t0\\tstbegin\\n\\n\\\\a)\\\\n+T\\\\s+\\t2\\tstend\\n\\\\a\\\\n+(T)\\\\s+\\t0\\tstbegin\\n\\\\a)\\\\n+P\\\\s+\\t2\\tstend\\n\\\\a\\\\n+(P)\\\\s+\\t0\\tstbegin\\n\\\\a)\\\\n+R\\\\s+\\t2\\tstend\\n\\\\a\\\\n+(R)\\\\s+\\t0\\tstbegin\\n\\\\a)\\\\s+\\\\n+R\\\\s+\\t2\\tstend\\n\\\\a\\\\s+\\\\n+(R)\\\\s+\\t0\\tstbegin\\n\\\\a)\\\\n+BP\\\\s+\\t2\\tstend\\n\\\\a\\\\n+(BP)\\\\s+\\t0\\tstbegin\\n\\\\a)\\\\n+O2\\\\s+\\t2\\tstend\\n\\\\a\\\\n+(O2)\\\\s+\\t0\\tstbegin\\n\\\\a)\\\\w+Sig:\\\\s+\\t2\\tstend\\n\\\\a\\\\w+(Sig:\\\\s+\\t0\\tstbegin\\n\\\\)(.)\\\\s+\\\\n+\\\\d.\\\\s+\\\\c+\\t2\\tstend\\n\\\\).\\\\s+\\\\n+(\\\\d.\\\\s+\\\\c+\\t0\\tstbegin\\n\\\\)(.)\\\\s+\\\\n+\\\\d.\\\\s+\\\\c+\\t2\\tstend\\n\\\\))\\\\s+\\\\n+\\\\d.\\\\s+\\\\c+\\t2\\tstend\\n\\\\)\\\\s+\\\\n+(\\\\d.\\\\s+\\\\c+\\t0\\tstbegin\\n\\\\))\\\\n+\\\\d.\\\\s+\\\\c+\\t2\\tstend\\n\\\\)\\\\n+(\\\\d.\\\\s+\\\\c+\\t0\\tstbegin\\n\\\\a\\\\n+(\\\\d.\\\\s+\\\\C\\t0\\tstbegin\\n\\\\a)\\\\n+\\\\d.\\\\s+\\\\C\\t2\\tstend\\n\\\\a)*\\\\n+\\\\d.\\\\s+\\\\C\\t2\\tstend\\n\\n\\n\\n\\\\a)\\\\n+\\\\d\\\\d\\\\d\\\\d-\\\\d\\\\d-\\\\d\\\\d\\\\s\\\\s\\\\s+\\t2\\tstend\\n\\\\a)*+\\\\n+\\\\d\\\\d\\\\d\\\\d-\\\\d\\\\d-\\\\d\\\\d\\\\s\\\\s\\\\s+\\t2\\tstend\\n\\\\a\\\\n+(\\\\d)\\\\d\\\\d\\\\d-\\\\d\\\\d-\\\\d\\\\d\\\\s\\\\s\\\\s+\\t0\\tstbegin\\n\\\\a)\\\\s+\\\\n+\\\\d\\\\d\\\\d\\\\d-\\\\d\\\\d-\\\\d\\\\d\\\\s\\\\s\\\\s+\\t2\\tstend\\n\\\\a\\\\s+\\\\n+(\\\\d)\\\\d\\\\d\\\\d-\\\\d\\\\d-\\\\d\\\\d\\\\s\\\\s\\\\s+\\t0\\tstbegin\\n\\\\C\\\\C+\\\\n+(\\\\d+.\\\\s+\\\\C\\t0\\tstbegin\\n\\\\C)\\\\n+\\\\d+.\\\\s+\\\\C\\t2\\tstend\\n\\\\d)\\\\n+\\\\C\\\\C+\\t2\\tstend\\n\\n\\\\c)\\\\n+\\\\C\\\\c+\\\\s\\\\(\\\\a\\\\a+\\\\):\\t2\\tstend\\n\\\\c\\\\n+(\\\\C\\\\c+\\\\s\\\\(\\\\a\\\\a+\\\\):\\t0\\tstbegin\\n\\\\d)\\\\n+\\\\C\\\\c+\\\\s\\\\(\\\\a\\\\a+\\\\):\\t2\\tstend\\n\\\\d\\\\n+(\\\\C\\\\c+\\\\s\\\\(\\\\a\\\\a+\\\\):\\t0\\tstbegin\\n\\n\\\\c.\\\\s+(-)\\\\s+\\\\C\\t0\\tstbegin\\n\\\\c(.)\\\\s+-\\\\s+\\\\C\\t2\\tstend\\n\\\\c\\\\s+(-)\\\\s+\\\\C\\t0\\tstbegin\\n\\\\c\\\\s+-\\\\s+\\\\C\\t2\\tstend\\n\\\\C\\\\c+\\\\s+-\\\\s+\\\\C\\\\c+\\t3\\tstend\\n\\\\C\\\\c+(:)\\\\s+\\\\n+\\\\c\\t2\\tstend\\n\\\\C\\\\c+:\\\\s+\\\\n+(\\\\c\\t0\\tstbegin\\n\\\\C\\\\c+:\\\\n+\\\\s+(\\\\c\\t0\\tstbegin\\n\\\\C\\\\c+(:)\\\\n+\\\\c\\t2\\tstend\\n\\\\C\\\\c+:\\\\n+(\\\\c\\t0\\tstbegin\\n\\\\C\\\\C\\\\C:\\\\n+(\\\\c\\t0\\tstbegin\\n\\\\C\\\\C\\\\C\\\\):\\\\n+(\\\\c\\t0\\tstbegin\\n\\\\sand)\\\\s+\\\\n+\\\\C\\t3\\tstend\\n\\\\sand)\\\\s+\\\\n+\\\\c\\t3\\tstend\\n\\\\sand)\\\\n+\\\\C\\t3\\tstend\\n\\\\sand)\\\\n+\\\\c\\t3\\tstend\\n\\n\\n\\n\\\\c(:)\\\\s+\\\\p+\\\\s+\\\\n\\t2\\tstend\\n\\\\s\\\\s\\\\s+(\\xc2\\xb7)\\\\s+\\\\C\\t0\\tstbegin\\n\\\\c)\\\\s\\\\s\\\\s+\\xc2\\xb7\\\\s\\\\C\\t2\\tstend\\n\\\\c)\\\\s\\\\s\\\\s+\\xc2\\xb7\\\\s\\\\C\\t2\\tstend\\n\\\\p)\\\\s\\\\s\\\\s+\\xc2\\xb7\\\\s\\\\C\\t2\\tstend\\n\\\\C\\\\c+\\\\s+(-)\\\\s+\\\\C\\\\c+\\t1\\tstbegin\\n\\\\s\\\\s+(P)atient Name:\\t0\\tstbegin\\n\\\\s\\\\s\\\\s+(P)rocedure Date:\\t0\\tstbegin\\n\\\\s\\\\s\\\\s+(D)ate of Birth:\\t0\\tstbegin\\n\\\\s\\\\s\\\\s+(A)ge:\\t0\\tstbegin\\n\\\\s\\\\s\\\\s+(G)ender:\\t0\\tstbegin\\n\\\\s\\\\s\\\\s+(N)ote Status:\\t0\\tstbegin\\n\\n\\\\a)\\\\s\\\\s+Patient Name:\\t2\\tstend\\n\\\\a)\\\\s\\\\s\\\\s+Procedure Date:\\t2\\tstend\\n\\\\a)\\\\s\\\\s\\\\s+Date of Birth:\\t2\\tstend\\n\\\\a)\\\\s\\\\s\\\\s+Age:\\t2\\tstend\\n\\\\a)\\\\s\\\\s\\\\s+Gender:\\t2\\tstend\\n\\\\a)\\\\s\\\\s\\\\s+Note Status:\\t2\\tstend\\n\\\\n\\\\n(\\\\(\\\\a+\\t0\\tstbegin\\n\\\\c.\\\\n+(\\\\(\\\\a+\\t0\\tstbegin\\n\\\\n+(\\\\c)\\\\c+:\\t0\\tstbegin\\n\\\\a+\\\\)\\\\n\\\\s+\\\\c\\\\c+:\\t2\\tstend\\n\\\\a+\\\\)\\\\s+\\\\n+\\\\c\\\\c+:\\t2\\tstend\\n\\\\a+\\\\)\\\\n+\\\\c\\\\c+:\\t2\\tstend\\n\\\\a+\\\\)\\\\s+\\\\n+\\\\s+\\\\c\\\\c+:\\t2\\tstend\\n\\\\c\\\\n+\\\\c\\\\c+:\\t2\\tstend\\n\\nOn)\\\\n+\\\\d\\\\d\\\\d\\\\d-\\\\d\\\\d-\\\\d\\\\d\\\\s\\\\s\\\\s+\\t3\\tstend\\nOn)\\\\s+\\\\n+\\\\d\\\\d\\\\d\\\\d-\\\\d\\\\d-\\\\d\\\\d\\\\s\\\\s\\\\s+\\t3\\tstend\\non)\\\\n+\\\\d\\\\d\\\\d\\\\d-\\\\d\\\\d-\\\\d\\\\d\\\\s\\\\s\\\\s+\\t3\\tstend\\non)\\\\s+\\\\n+\\\\d\\\\d\\\\d\\\\d-\\\\d\\\\d-\\\\d\\\\d\\\\s\\\\s\\\\s+\\t3\\tstend\\nby)\\\\n+\\\\d\\\\d\\\\d\\\\d-\\\\d\\\\d-\\\\d\\\\d\\\\s\\\\s\\\\s+\\t3\\tstend\\nby)\\\\s+\\\\n+\\\\d\\\\d\\\\d\\\\d-\\\\d\\\\d-\\\\d\\\\d\\\\s\\\\s\\\\s+\\t3\\tstend\\nsince)\\\\n+\\\\d\\\\d\\\\d\\\\d-\\\\d\\\\d-\\\\d\\\\d\\\\s\\\\s\\\\s+\\t3\\tstend\\nsince)\\\\s+\\\\n+\\\\d\\\\d\\\\d\\\\d-\\\\d\\\\d-\\\\d\\\\d\\\\s\\\\s\\\\s+\\t3\\tstend\\nSince)\\\\n+\\\\d\\\\d\\\\d\\\\d-\\\\d\\\\d-\\\\d\\\\d\\\\s\\\\s\\\\s+\\t3\\tstend\\nSince)\\\\s+\\\\n+\\\\d\\\\d\\\\d\\\\d-\\\\d\\\\d-\\\\d\\\\d\\\\s\\\\s\\\\s+\\t3\\tstend\\n\\n\\\\a)\\\\s+**+\\\\s+\\\\n\\\\n\\t2\\tstend\\n\\\\a)\\\\s+**+\\\\n\\\\n\\t2\\tstend\\n\\n\\\\a(\\\\a)\\\\n+\\\\d\\\\).\\\\s+\\\\C\\t2\\tstend\\n\\\\a\\\\n+\\\\d\\\\)(.)\\\\s+\\\\C\\t3\\tstend\\n\\\\C\\\\C\\\\n+(\\\\d\\\\).\\\\s+\\\\C\\t0\\tstbegin\\n\\\\c.\\\\n+(\\\\d\\\\).\\\\s+\\\\C\\t0\\tstbegin\\n\\\\C\\\\C.\\\\n+(\\\\d\\\\).\\\\s+\\\\C\\t0\\tstbegin\\n\\\\c.\\\\s+\\\\n+(\\\\d)\\\\).\\\\s+\\\\C\\t0\\tstbegin\\n.\\\\s+\\\\n+\\\\d\\\\)(.)\\\\s+\\\\C\\t3\\tstend\\n\\n\\n\\\\a\\\\n+(\\\\d)\\\\d-\\\\d\\\\d\\\\s+\\t0\\tstbegin\\n\\\\a\\\\s+\\\\n+(\\\\d)\\\\d-\\\\d\\\\d\\\\s+\\t0\\tstbegin\\n\\\\a.\\\\s+\\\\n+(\\\\d)\\\\d-\\\\d\\\\d\\\\s+\\t0\\tstbegin\\n\\n\\\\c\\\\w+(\\\\d)\\\\)\\\\s+\\\\C\\t0\\tstbegin\\n\\\\c\\\\c+.\\\\w+(\\\\d)\\\\)\\\\s+\\\\C\\t0\\tstbegin\\n\\\\c+\\\\c(.)\\\\w+\\\\d\\\\)\\\\s+\\\\C\\t2\\tstend\\n\\n\\n\\\\a)\\\\s+\\\\n+\\\\C\\\\c+\\\\s+\\\\C\\\\c+:\\t2\\tstend\\n\\\\a\\\\s+\\\\n+(\\\\C)\\\\c+\\\\s+\\\\C\\\\c+:\\t0\\tstbegin\\n\\\\a)\\\\s+\\\\n+\\\\C\\\\c+:\\t2\\tstend\\n\\\\a\\\\s+\\\\n+(\\\\C)\\\\c+:\\t0\\tstbegin\\n\\\\a)\\\\w+Date of Birth:\\t2\\tstend\\n\\\\w+(D)ate of Birth:\\t0\\tstbegin\\n\\n\\\\c:\\\\s+\\\\n(\\\\a\\t0\\tstbegin\\n\\\\sDr(.)\\\\s\\t3\\tstend\\n\\\\sMr(.)\\\\s\\t3\\tstend\\n\\\\sMrs(.)\\\\s\\t3\\tstend\\n\\\\sMs(.)\\\\s\\t3\\tstend\\n\\\\sth(e)\\\\n\\\\C\\\\c+\\t3\\tstend\\n\\\\sTh(e)\\\\n\\\\C\\\\c+\\t3\\tstend\\n\\\\si(n)\\\\n\\\\a+\\t3\\tstend\\n\\\\sI(n)\\\\n\\\\a+\\t3\\tstend\\n\\\\sfo(r)\\\\n\\\\a+\\t3\\tstend\\n\\\\sb(y)\\\\a+\\t3\\tstend\\n\\\\shi(s)\\\\a+\\t3\\tstend\\n\\\\she(r)\\\\a+\\t3\\tstend\\n\\\\swit(h)\\\\a+\\t3\\tstend\\n\\\\so(n)\\\\a+\\t3\\tstend\\n\\\\sO(n)\\\\a+\\t3\\tstend\\n\\\\sunti(l)\\\\a+\\t3\\tstend\\n\\\\sUnti(l)\\\\a+\\t3\\tstend\\n\\\\so(f)\\\\a+\\t3\\tstend\\n\\\\sthroug(h)\\\\a+\\t3\\tstend\\n\\\\san(d)\\\\a+\\t3\\tstend\\n\\\\so(r)\\\\n\\\\a+\\t3\\tstend\\n\\\\sa(s)\\\\n\\\\a+\\t3\\tstend\\n\\\\sincludin(g)\\\\a+\\t3\\tstend\\n\\n\\nCardiac\\\\w+Surgery\\\\w+Intensive\\\\w+Care\\\\w+Unit\\t3\\tstend\\n\\\\C\\\\c+\\\\w+Cardiac\\\\w+Surge\\\\(+ry\\\\w+Intensive\\\\w+Care\\\\w+Unit\\t3\\tstend\\nIntensive\\\\w+Care\\\\w+Unit\\t3\\tstend\\n\\\\C\\\\c+\\\\w+Intensive\\\\w+Care\\\\w+Unit\\t3\\tstend\\nEmergency\\\\w+Department\\t3\\tstend\\nCoronary\\\\w+Care\\\\w+Unit\\t3\\tstend\\n\\n\\\\a)*\\\\n\\\\n\\t2\\tstend\\n\\\\a)*\\\\n\\\\d\\\\d+.\\\\s\\\\C\\t2\\tstend\\n\\\\a)*\\\\n\\\\d.\\\\s\\\\C\\t2\\tstend\\n\\nCENTER\\\\w+(.\\t2\\tstend\\nPaterna(l\\t3\\tstend\\nHOSPITAL\\\\w+(.\\t2\\tstend\\nCENTER\\\\w+.\\\\w+(\\\\C\\t0\\tstbegin\\nHOSPITAL\\\\w+.\\\\w+(\\\\C\\t0\\tstbegin\\n\\\\C\\\\c+\\\\w+Surgery\\t3\\tstend\\n\\n\\\\c.\\\\c(.)\\\\w+\\\\C\\\\c\\\\c\\t2\\tstend\\n\\\\wTR(.\\\\w+\\\\C\\\\c\\\\c\\t2\\tstend\\n\\\\wTR.\\\\w+(\\\\C)\\\\c\\\\c\\t0\\tstbegin\\n.)\\\\w+He \\t2\\tstend\\n.)\\\\w+His \\t2\\tstend\\n.)\\\\w+Her \\t2\\tstend\\n.)\\\\w+She \\t2\\tstend\\n.)\\\\w+We \\t2\\tstend\\n.)\\\\w+Our \\t2\\tstend\\n.)\\\\w+The \\t2\\tstend\\n.)\\\\w+They \\t2\\tstend\\n.)\\\\w+Their \\t2\\tstend\\n.)\\\\w+I \\t2\\tstend\\n.)\\\\w+My \\t2\\tstend\\n\\n.\\\\w+(\")\\t0\\tstbegin\\n.\\\\w+(He \\t0\\tstbegin\\n.\\\\w+(His \\t0\\tstbegin\\n.\\\\w+(Her \\t0\\tstbegin\\n.\\\\w+(She \\t0\\tstbegin\\n.\\\\w+(We \\t0\\tstbegin\\n.\\\\w+(Our \\t0\\tstbegin\\n.\\\\w+(The \\t0\\tstbegin\\n.\\\\w+(They \\t0\\tstbegin\\n.\\\\w+(Their \\t0\\tstbegin\\n.\\\\w+(I \\t0\\tstbegin\\n.\\\\w+(My \\t0\\tstbegin\\n.\\\\w+(But \\t0\\tstbegin\\n.\\\\w+(Now \\t0\\tstbegin\\n.\\\\w+(Discharge \\t0\\tstbegin\\n.\\\\w+(This \\t0\\tstbegin\\n.\\\\w+(That \\t0\\tstbegin\\n.\\\\w+(this \\t0\\tstbegin\\n.\\\\w+(that \\t0\\tstbegin\\n.\\\\w+(he \\t0\\tstbegin\\n.\\\\w+(she \\t0\\tstbegin\\n.\\\\w+(we \\t0\\tstbegin\\n.\\\\w+(our \\t0\\tstbegin\\n.\\\\w+(his \\t0\\tstbegin\\n.\\\\w+(her \\t0\\tstbegin\\n.\\\\w+(they \\t0\\tstbegin\\n.\\\\w+(their \\t0\\tstbegin\\n.\\\\w+(my \\t0\\tstbegin\\n.\\\\w+(but \\t0\\tstbegin\\n'}"
            ]
          },
          "metadata": {
            "tags": []
          },
          "execution_count": 20
        }
      ]
    },
    {
      "cell_type": "code",
      "metadata": {
        "id": "wdvAC3qMCqF7"
      },
      "source": [
        "with open (\"discharge_summary.txt\") as f:\n",
        "    text = f.read()\n",
        "#Use a blank model rather than full medspacy pipeline\n",
        "nlp = spacy.blank(\"en\")"
      ],
      "execution_count": 16,
      "outputs": []
    },
    {
      "cell_type": "code",
      "metadata": {
        "colab": {
          "base_uri": "https://localhost:8080/"
        },
        "id": "NgAt75NpCqF7",
        "outputId": "a667a827-10e9-43f8-e40c-2231cdcaf14a"
      },
      "source": [
        "from medspacy.custom_tokenizer import create_medspacy_tokenizer\n",
        "medspacy_tokenizer = create_medspacy_tokenizer(nlp)\n",
        "default_tokenizer = nlp.tokenizer\n",
        "\n",
        "example_text = r'Pt c\\o n;v;d h\\o chf+cp'\n",
        "\n",
        "print(\"Tokens from default tokenizer: \")\n",
        "print(list(default_tokenizer(example_text)))\n",
        "\n",
        "print(\"Tokens from medspacy tokenizer:\")\n",
        "print(list(medspacy_tokenizer(example_text)))"
      ],
      "execution_count": 17,
      "outputs": [
        {
          "output_type": "stream",
          "text": [
            "Tokens from default tokenizer: \n",
            "[Pt, c\\o, n;v;d, h\\o, chf+cp]\n",
            "Tokens from medspacy tokenizer:\n",
            "[Pt, c, \\, o, n, ;, v, ;, d, h, \\, o, chf, +, cp]\n"
          ],
          "name": "stdout"
        }
      ]
    },
    {
      "cell_type": "code",
      "metadata": {
        "colab": {
          "base_uri": "https://localhost:8080/"
        },
        "id": "0qo9e_QvCqF9",
        "outputId": "085f350a-9f97-4e4a-f97e-f475e4709549"
      },
      "source": [
        "# Now replacing the default tokenizer with custom tokenizer\n",
        "nlp.tokenizer = medspacy_tokenizer\n",
        "print(list(nlp(example_text)))"
      ],
      "execution_count": 18,
      "outputs": [
        {
          "output_type": "stream",
          "text": [
            "[Pt, c, \\, o, n, ;, v, ;, d, h, \\, o, chf, +, cp]\n"
          ],
          "name": "stdout"
        }
      ]
    },
    {
      "cell_type": "markdown",
      "metadata": {
        "id": "GepWhrlFCqF9"
      },
      "source": [
        "### PyRuSH"
      ]
    },
    {
      "cell_type": "code",
      "metadata": {
        "id": "scszuEavCqF-"
      },
      "source": [
        "\n",
        "from medspacy.sentence_splitting import PyRuSHSentencizer\n",
        "sentencizer = PyRuSHSentencizer(rules_path=\"rush_rules.tsv\")"
      ],
      "execution_count": 21,
      "outputs": []
    },
    {
      "cell_type": "code",
      "metadata": {
        "colab": {
          "base_uri": "https://localhost:8080/"
        },
        "id": "fk4Upx1nCqF-",
        "outputId": "0e87997e-2384-45c2-bebf-3e06bd3206a6"
      },
      "source": [
        "sentencizer"
      ],
      "execution_count": 22,
      "outputs": [
        {
          "output_type": "execute_result",
          "data": {
            "text/plain": [
              "<PyRuSH.PyRuSHSentencizer.PyRuSHSentencizer at 0x7fb927f0ada0>"
            ]
          },
          "metadata": {
            "tags": []
          },
          "execution_count": 22
        }
      ]
    },
    {
      "cell_type": "code",
      "metadata": {
        "colab": {
          "base_uri": "https://localhost:8080/"
        },
        "id": "EUsL3n8ICqGA",
        "outputId": "4f32edb0-492b-42a4-fb67-31a001883798"
      },
      "source": [
        "nlp.add_pipe(sentencizer)\n",
        "nlp.pipe_names"
      ],
      "execution_count": 23,
      "outputs": [
        {
          "output_type": "execute_result",
          "data": {
            "text/plain": [
              "['sentencizer']"
            ]
          },
          "metadata": {
            "tags": []
          },
          "execution_count": 23
        }
      ]
    },
    {
      "cell_type": "code",
      "metadata": {
        "id": "gAwVHY_-CqGA"
      },
      "source": [
        "doc=nlp(text)"
      ],
      "execution_count": 24,
      "outputs": []
    },
    {
      "cell_type": "code",
      "metadata": {
        "scrolled": false,
        "colab": {
          "base_uri": "https://localhost:8080/"
        },
        "id": "0gegmPW9CqGA",
        "outputId": "2ef6f37a-452b-4eaf-8208-a50a09212b9d"
      },
      "source": [
        "for sent in doc.sents:\n",
        "    print(sent)\n",
        "    print(\"---\"*10)"
      ],
      "execution_count": 25,
      "outputs": [
        {
          "output_type": "stream",
          "text": [
            "Admission Date:  [**2573-5-30**]              \n",
            "------------------------------\n",
            "Discharge Date:   [**2573-7-1**]\n",
            "\n",
            "\n",
            "------------------------------\n",
            "Date of Birth:  [**2498-8-19**]             \n",
            "------------------------------\n",
            "Sex:   F\n",
            "\n",
            "\n",
            "------------------------------\n",
            "Service: SURGERY\n",
            "\n",
            "\n",
            "------------------------------\n",
            "Allergies:\n",
            "\n",
            "------------------------------\n",
            "Hydrochlorothiazide\n",
            "\n",
            "\n",
            "------------------------------\n",
            "Attending:[**First Name3 (LF) 1893**]\n",
            "\n",
            "------------------------------\n",
            "Chief Complaint:\n",
            "\n",
            "------------------------------\n",
            "Abdominal pain\n",
            "\n",
            "\n",
            "------------------------------\n",
            "Major Surgical or Invasive Procedure:\n",
            "\n",
            "------------------------------\n",
            "PICC line [**6-25**]\n",
            "\n",
            "------------------------------\n",
            "ERCP w/ sphincterotomy [**5-31**]\n",
            "\n",
            "\n",
            "\n",
            "------------------------------\n",
            "History of Present Illness:\n",
            "\n",
            "------------------------------\n",
            "74y female with type 2 dm and a recent stroke affecting her\n",
            "speech, who presents with 2 days of abdominal pain.\n",
            "------------------------------\n",
            "Imaging shows no evidence of metastasis.\n",
            "\n",
            "\n",
            "------------------------------\n",
            "Past Medical History:\n",
            "\n",
            "------------------------------\n",
            "1. Colon cancer dx'd in [**2554**], tx'd with hemicolectomy, XRT,\n",
            "chemo.\n",
            "------------------------------\n",
            "Last colonoscopy showed: Last CEA was in the 8 range\n",
            "(down from 9)\n",
            "\n",
            "------------------------------\n",
            "2. Type II Diabetes Mellitus\n",
            "\n",
            "------------------------------\n",
            "3. Hypertension\n",
            "\n",
            "\n",
            "------------------------------\n",
            "Social History:\n",
            "\n",
            "------------------------------\n",
            "Married, former tobacco use.\n",
            "------------------------------\n",
            "No alcohol or drug use.\n",
            "\n",
            "\n",
            "------------------------------\n",
            "Family History:\n",
            "\n",
            "------------------------------\n",
            "Mother with stroke at age 82. no early deaths.\n",
            "\n",
            "------------------------------\n",
            "2 daughters- healthy\n",
            "\n",
            "\n",
            "\n",
            "------------------------------\n",
            "Brief Hospital Course:\n",
            "\n",
            "------------------------------\n",
            "Ms. [**Known patient lastname 2004**] was admitted on [**2573-5-30**]. Ultrasound at the time of\n",
            "admission demonstrated pancreatic duct dilitation and an\n",
            "edematous gallbladder.\n",
            "------------------------------\n",
            "She was admitted to the ICU.\n",
            "\n",
            "------------------------------\n",
            "Discharge Medications:\n",
            "\n",
            "------------------------------\n",
            "1. Miconazole Nitrate 2 % Powder\n",
            "------------------------------\n",
            "Sig: One (1) Appl Topical  BID\n",
            "(2 times a day) as needed.\n",
            "\n",
            "------------------------------\n",
            "2. Heparin Sodium (Porcine) 5,000 unit/mL Solution\n",
            "------------------------------\n",
            "Sig: One (1)\n",
            "Injection TID (3 times a day).\n",
            "\n",
            "------------------------------\n",
            "3. Acetaminophen 160 mg/5 mL Elixir\n",
            "------------------------------\n",
            "Sig: One (1)  PO Q4-6H\n",
            "(every 4 to 6 hours) as needed.\n",
            "\n",
            "\n",
            "------------------------------\n",
            "Discharge Diagnosis:\n",
            "\n",
            "------------------------------\n",
            "Type 2 DM\n",
            "Pancreatitis\n",
            "\n",
            "------------------------------\n",
            "HTN\n",
            "h/o aspiration respiratory distress\n",
            "\n",
            "\n",
            "\n",
            "------------------------------\n",
            "Discharge Instructions:\n",
            "\n",
            "------------------------------\n",
            "Patient may shower.\n",
            "------------------------------\n",
            "Please call your surgeon or return to the\n",
            "emergency room if [**Doctor First Name **] experience fever >101.5, nausea, vomiting,\n",
            "abdominal pain, shortness of breath, abdominal pain or any\n",
            "significant  change in your medical condition.\n",
            "------------------------------\n",
            "A\n",
            "\n",
            "\n",
            "------------------------------\n",
            "Completed by: [**First Name11 (Name Pattern1) 2010**] [**Last Name (NamePattern1) 2011**] MD [**MD Number 2012**] [**2573-7-1**] @ 1404\n",
            "\n",
            "------------------------------\n",
            "Signed electronically by: DR. [**First Name8 (NamePattern2) **] [**Last Name (NamePattern1) **]\n",
            " on: FRI [**2573-7-2**] 8:03 AM\n",
            "\n",
            "------------------------------\n",
            "(End of Report)\n",
            "\n",
            "------------------------------\n"
          ],
          "name": "stdout"
        }
      ]
    },
    {
      "cell_type": "code",
      "metadata": {
        "id": "p2a9Vu-XCqGA"
      },
      "source": [
        "import spacy\n",
        "import medspacy\n",
        "from medspacy.visualization import visualize_ent, visualize_dep"
      ],
      "execution_count": 26,
      "outputs": []
    },
    {
      "cell_type": "code",
      "metadata": {
        "id": "_e7gZEHaCqGB"
      },
      "source": [
        "with open(\"discharge_summary.txt\") as f:\n",
        "    text = f.read()"
      ],
      "execution_count": 29,
      "outputs": []
    },
    {
      "cell_type": "code",
      "metadata": {
        "colab": {
          "base_uri": "https://localhost:8080/",
          "height": 158
        },
        "id": "Y3JvCEzrjqAy",
        "outputId": "544660b0-e5af-454f-8c07-57cd7c191949"
      },
      "source": [
        "text"
      ],
      "execution_count": 30,
      "outputs": [
        {
          "output_type": "execute_result",
          "data": {
            "application/vnd.google.colaboratory.intrinsic+json": {
              "type": "string"
            },
            "text/plain": [
              "\"Admission Date:  [**2573-5-30**]              Discharge Date:   [**2573-7-1**]\\n\\nDate of Birth:  [**2498-8-19**]             Sex:   F\\n\\nService: SURGERY\\n\\nAllergies:\\nHydrochlorothiazide\\n\\nAttending:[**First Name3 (LF) 1893**]\\nChief Complaint:\\nAbdominal pain\\n\\nMajor Surgical or Invasive Procedure:\\nPICC line [**6-25**]\\nERCP w/ sphincterotomy [**5-31**]\\n\\n\\nHistory of Present Illness:\\n74y female with type 2 dm and a recent stroke affecting her\\nspeech, who presents with 2 days of abdominal pain. Imaging shows no evidence of metastasis.\\n\\nPast Medical History:\\n1. Colon cancer dx'd in [**2554**], tx'd with hemicolectomy, XRT,\\nchemo. Last colonoscopy showed: Last CEA was in the 8 range\\n(down from 9)\\n2. Type II Diabetes Mellitus\\n3. Hypertension\\n\\nSocial History:\\nMarried, former tobacco use. No alcohol or drug use.\\n\\nFamily History:\\nMother with stroke at age 82. no early deaths.\\n2 daughters- healthy\\n\\n\\nBrief Hospital Course:\\nMs. [**Known patient lastname 2004**] was admitted on [**2573-5-30**]. Ultrasound at the time of\\nadmission demonstrated pancreatic duct dilitation and an\\nedematous gallbladder. She was admitted to the ICU.\\nDischarge Medications:\\n1. Miconazole Nitrate 2 % Powder Sig: One (1) Appl Topical  BID\\n(2 times a day) as needed.\\n2. Heparin Sodium (Porcine) 5,000 unit/mL Solution Sig: One (1)\\nInjection TID (3 times a day).\\n3. Acetaminophen 160 mg/5 mL Elixir Sig: One (1)  PO Q4-6H\\n(every 4 to 6 hours) as needed.\\n\\nDischarge Diagnosis:\\nType 2 DM\\nPancreatitis\\nHTN\\nh/o aspiration respiratory distress\\n\\n\\nDischarge Instructions:\\nPatient may shower. Please call your surgeon or return to the\\nemergency room if [**Doctor First Name **] experience fever >101.5, nausea, vomiting,\\nabdominal pain, shortness of breath, abdominal pain or any\\nsignificant  change in your medical condition. A\\n\\nCompleted by: [**First Name11 (Name Pattern1) 2010**] [**Last Name (NamePattern1) 2011**] MD [**MD Number 2012**] [**2573-7-1**] @ 1404\\nSigned electronically by: DR. [**First Name8 (NamePattern2) **] [**Last Name (NamePattern1) **]\\n on: FRI [**2573-7-2**] 8:03 AM\\n(End of Report)\\n\""
            ]
          },
          "metadata": {
            "tags": []
          },
          "execution_count": 30
        }
      ]
    },
    {
      "cell_type": "code",
      "metadata": {
        "id": "_OSsuFogCqGB"
      },
      "source": [
        "nlp = spacy.load(\"en_core_web_sm\",disable  = [\"ner\"])"
      ],
      "execution_count": 39,
      "outputs": []
    },
    {
      "cell_type": "code",
      "metadata": {
        "id": "i9egZJbrCqGC"
      },
      "source": [
        "from medspacy.ner import TargetMatcher, TargetRule\n",
        "target_matcher = TargetMatcher(nlp)\n",
        "nlp.add_pipe(target_matcher)"
      ],
      "execution_count": 40,
      "outputs": []
    },
    {
      "cell_type": "code",
      "metadata": {
        "id": "p8Fr1X0lCqGC"
      },
      "source": [
        "target_rules1 = [\n",
        "    TargetRule(literal=\"abdominal pain\", category=\"PROBLEM\"),\n",
        "    TargetRule(literal=\"stroke\", category=\"PROBLEM\"),\n",
        "    TargetRule(literal=\"hemicolectomy\",category=\"TREATMENT\"),\n",
        "    TargetRule(literal=\"Hydrocholorothiazide\",category= \"TREATMENT\"),\n",
        "    TargetRule(literal=\"colon cancer\",category=\"PROBLEM\"),\n",
        "    TargetRule(literal=\"radiotherapy\",category=\"PROBLEM\",\n",
        "               pattern = [{\"LOWER\" : 'xrt'}]),\n",
        "    TargetRule(literal = \"metastasis\",category=\"PROBLEM\"),\n",
        "    \n",
        "]"
      ],
      "execution_count": 41,
      "outputs": []
    },
    {
      "cell_type": "code",
      "metadata": {
        "id": "A-xq521_CqGC"
      },
      "source": [
        "target_matcher.add(target_rules1)"
      ],
      "execution_count": 42,
      "outputs": []
    },
    {
      "cell_type": "code",
      "metadata": {
        "colab": {
          "base_uri": "https://localhost:8080/"
        },
        "id": "y1qOe8_Yj2vy",
        "outputId": "dca540dd-37ae-4f05-b240-c256925a94d6"
      },
      "source": [
        "nlp.pipe_names"
      ],
      "execution_count": 43,
      "outputs": [
        {
          "output_type": "execute_result",
          "data": {
            "text/plain": [
              "['tagger', 'parser', 'target_matcher']"
            ]
          },
          "metadata": {
            "tags": []
          },
          "execution_count": 43
        }
      ]
    },
    {
      "cell_type": "code",
      "metadata": {
        "id": "42Fa2j_qCqGD"
      },
      "source": [
        "doc = nlp(text)"
      ],
      "execution_count": 44,
      "outputs": []
    },
    {
      "cell_type": "code",
      "metadata": {
        "scrolled": true,
        "colab": {
          "base_uri": "https://localhost:8080/",
          "height": 1000
        },
        "id": "6bIU_hXdCqGE",
        "outputId": "d6743a0f-8c39-4090-8c33-6ac59bc2003a"
      },
      "source": [
        "visualize_ent(doc)"
      ],
      "execution_count": 45,
      "outputs": [
        {
          "output_type": "display_data",
          "data": {
            "text/html": [
              "<span class=\"tex2jax_ignore\"><div class=\"entities\" style=\"line-height: 2.5; direction: ltr\">Admission Date:  [**2573-5-30**]              Discharge Date:   [**2573-7-1**]</br></br>Date of Birth:  [**2498-8-19**]             Sex:   F</br></br>Service: SURGERY</br></br>Allergies:</br>Hydrochlorothiazide</br></br>Attending:[**First Name3 (LF) 1893**]</br>Chief Complaint:</br>\n",
              "<mark class=\"entity\" style=\"background: #1f77b4; padding: 0.45em 0.6em; margin: 0 0.25em; line-height: 1; border-radius: 0.35em;\">\n",
              "    Abdominal pain\n",
              "    <span style=\"font-size: 0.8em; font-weight: bold; line-height: 1; border-radius: 0.35em; text-transform: uppercase; vertical-align: middle; margin-left: 0.5rem\">PROBLEM</span>\n",
              "</mark>\n",
              "</br></br>Major Surgical or Invasive Procedure:</br>PICC line [**6-25**]</br>ERCP w/ sphincterotomy [**5-31**]</br></br></br>History of Present Illness:</br>74y female with type 2 dm and a recent \n",
              "<mark class=\"entity\" style=\"background: #1f77b4; padding: 0.45em 0.6em; margin: 0 0.25em; line-height: 1; border-radius: 0.35em;\">\n",
              "    stroke\n",
              "    <span style=\"font-size: 0.8em; font-weight: bold; line-height: 1; border-radius: 0.35em; text-transform: uppercase; vertical-align: middle; margin-left: 0.5rem\">PROBLEM</span>\n",
              "</mark>\n",
              " affecting her</br>speech, who presents with 2 days of \n",
              "<mark class=\"entity\" style=\"background: #1f77b4; padding: 0.45em 0.6em; margin: 0 0.25em; line-height: 1; border-radius: 0.35em;\">\n",
              "    abdominal pain\n",
              "    <span style=\"font-size: 0.8em; font-weight: bold; line-height: 1; border-radius: 0.35em; text-transform: uppercase; vertical-align: middle; margin-left: 0.5rem\">PROBLEM</span>\n",
              "</mark>\n",
              ". Imaging shows no evidence of \n",
              "<mark class=\"entity\" style=\"background: #1f77b4; padding: 0.45em 0.6em; margin: 0 0.25em; line-height: 1; border-radius: 0.35em;\">\n",
              "    metastasis\n",
              "    <span style=\"font-size: 0.8em; font-weight: bold; line-height: 1; border-radius: 0.35em; text-transform: uppercase; vertical-align: middle; margin-left: 0.5rem\">PROBLEM</span>\n",
              "</mark>\n",
              ".</br></br>Past Medical History:</br>1. \n",
              "<mark class=\"entity\" style=\"background: #1f77b4; padding: 0.45em 0.6em; margin: 0 0.25em; line-height: 1; border-radius: 0.35em;\">\n",
              "    Colon cancer\n",
              "    <span style=\"font-size: 0.8em; font-weight: bold; line-height: 1; border-radius: 0.35em; text-transform: uppercase; vertical-align: middle; margin-left: 0.5rem\">PROBLEM</span>\n",
              "</mark>\n",
              " dx'd in [**2554**], tx'd with \n",
              "<mark class=\"entity\" style=\"background: #ff7f0e; padding: 0.45em 0.6em; margin: 0 0.25em; line-height: 1; border-radius: 0.35em;\">\n",
              "    hemicolectomy\n",
              "    <span style=\"font-size: 0.8em; font-weight: bold; line-height: 1; border-radius: 0.35em; text-transform: uppercase; vertical-align: middle; margin-left: 0.5rem\">TREATMENT</span>\n",
              "</mark>\n",
              ", \n",
              "<mark class=\"entity\" style=\"background: #1f77b4; padding: 0.45em 0.6em; margin: 0 0.25em; line-height: 1; border-radius: 0.35em;\">\n",
              "    XRT\n",
              "    <span style=\"font-size: 0.8em; font-weight: bold; line-height: 1; border-radius: 0.35em; text-transform: uppercase; vertical-align: middle; margin-left: 0.5rem\">PROBLEM</span>\n",
              "</mark>\n",
              ",</br>chemo. Last colonoscopy showed: Last CEA was in the 8 range</br>(down from 9)</br>2. Type II Diabetes Mellitus</br>3. Hypertension</br></br>Social History:</br>Married, former tobacco use. No alcohol or drug use.</br></br>Family History:</br>Mother with \n",
              "<mark class=\"entity\" style=\"background: #1f77b4; padding: 0.45em 0.6em; margin: 0 0.25em; line-height: 1; border-radius: 0.35em;\">\n",
              "    stroke\n",
              "    <span style=\"font-size: 0.8em; font-weight: bold; line-height: 1; border-radius: 0.35em; text-transform: uppercase; vertical-align: middle; margin-left: 0.5rem\">PROBLEM</span>\n",
              "</mark>\n",
              " at age 82. no early deaths.</br>2 daughters- healthy</br></br></br>Brief Hospital Course:</br>Ms. [**Known patient lastname 2004**] was admitted on [**2573-5-30**]. Ultrasound at the time of</br>admission demonstrated pancreatic duct dilitation and an</br>edematous gallbladder. She was admitted to the ICU.</br>Discharge Medications:</br>1. Miconazole Nitrate 2 % Powder Sig: One (1) Appl Topical  BID</br>(2 times a day) as needed.</br>2. Heparin Sodium (Porcine) 5,000 unit/mL Solution Sig: One (1)</br>Injection TID (3 times a day).</br>3. Acetaminophen 160 mg/5 mL Elixir Sig: One (1)  PO Q4-6H</br>(every 4 to 6 hours) as needed.</br></br>Discharge Diagnosis:</br>Type 2 DM</br>Pancreatitis</br>HTN</br>h/o aspiration respiratory distress</br></br></br>Discharge Instructions:</br>Patient may shower. Please call your surgeon or return to the</br>emergency room if [**Doctor First Name **] experience fever &gt;101.5, nausea, vomiting,</br>\n",
              "<mark class=\"entity\" style=\"background: #1f77b4; padding: 0.45em 0.6em; margin: 0 0.25em; line-height: 1; border-radius: 0.35em;\">\n",
              "    abdominal pain\n",
              "    <span style=\"font-size: 0.8em; font-weight: bold; line-height: 1; border-radius: 0.35em; text-transform: uppercase; vertical-align: middle; margin-left: 0.5rem\">PROBLEM</span>\n",
              "</mark>\n",
              ", shortness of breath, \n",
              "<mark class=\"entity\" style=\"background: #1f77b4; padding: 0.45em 0.6em; margin: 0 0.25em; line-height: 1; border-radius: 0.35em;\">\n",
              "    abdominal pain\n",
              "    <span style=\"font-size: 0.8em; font-weight: bold; line-height: 1; border-radius: 0.35em; text-transform: uppercase; vertical-align: middle; margin-left: 0.5rem\">PROBLEM</span>\n",
              "</mark>\n",
              " or any</br>significant  change in your medical condition. A</br></br>Completed by: [**First Name11 (Name Pattern1) 2010**] [**Last Name (NamePattern1) 2011**] MD [**MD Number 2012**] [**2573-7-1**] @ 1404</br>Signed electronically by: DR. [**First Name8 (NamePattern2) **] [**Last Name (NamePattern1) **]</br> on: FRI [**2573-7-2**] 8:03 AM</br>(End of Report)</br></div></span>"
            ],
            "text/plain": [
              "<IPython.core.display.HTML object>"
            ]
          },
          "metadata": {
            "tags": []
          }
        }
      ]
    },
    {
      "cell_type": "code",
      "metadata": {
        "scrolled": false,
        "colab": {
          "base_uri": "https://localhost:8080/"
        },
        "id": "-z2WfHcICqGE",
        "outputId": "ca95e6ad-bbd5-4bba-ec3e-2bbe470d7086"
      },
      "source": [
        "for ent in doc.ents:\n",
        "    print(ent, ent.label_, ent._.target_rule.literal, sep=\"  |  \")\n",
        "    print()"
      ],
      "execution_count": 46,
      "outputs": [
        {
          "output_type": "stream",
          "text": [
            "Abdominal pain  |  PROBLEM  |  abdominal pain\n",
            "\n",
            "stroke  |  PROBLEM  |  stroke\n",
            "\n",
            "abdominal pain  |  PROBLEM  |  abdominal pain\n",
            "\n",
            "metastasis  |  PROBLEM  |  metastasis\n",
            "\n",
            "Colon cancer  |  PROBLEM  |  colon cancer\n",
            "\n",
            "hemicolectomy  |  TREATMENT  |  hemicolectomy\n",
            "\n",
            "XRT  |  PROBLEM  |  radiotherapy\n",
            "\n",
            "stroke  |  PROBLEM  |  stroke\n",
            "\n",
            "abdominal pain  |  PROBLEM  |  abdominal pain\n",
            "\n",
            "abdominal pain  |  PROBLEM  |  abdominal pain\n",
            "\n"
          ],
          "name": "stdout"
        }
      ]
    },
    {
      "cell_type": "code",
      "metadata": {
        "id": "iZWX0ApGCqGF"
      },
      "source": [
        ""
      ],
      "execution_count": null,
      "outputs": []
    }
  ]
}